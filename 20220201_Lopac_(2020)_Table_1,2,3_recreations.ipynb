{
  "nbformat": 4,
  "nbformat_minor": 0,
  "metadata": {
    "colab": {
      "name": "20220201 Lopac (2020) Table 1,2,3 recreations.ipynb",
      "provenance": [],
      "collapsed_sections": [],
      "mount_file_id": "1Dzs2oPNvy0ila88gSlFthJhpeodX4aYY",
      "authorship_tag": "ABX9TyOgZAm3QN8Z7Bh1LOntCEO8",
      "include_colab_link": true
    },
    "kernelspec": {
      "name": "python3",
      "display_name": "Python 3"
    },
    "language_info": {
      "name": "python"
    }
  },
  "cells": [
    {
      "cell_type": "markdown",
      "metadata": {
        "id": "view-in-github",
        "colab_type": "text"
      },
      "source": [
        "<a href=\"https://colab.research.google.com/github/Calista-F/CCSN-gravitational-wave-denoising/blob/main/20220201_Lopac_(2020)_Table_1%2C2%2C3_recreations.ipynb\" target=\"_parent\"><img src=\"https://colab.research.google.com/assets/colab-badge.svg\" alt=\"Open In Colab\"/></a>"
      ]
    },
    {
      "cell_type": "code",
      "metadata": {
        "id": "wVNfRB4dH5qu"
      },
      "source": [
        "import numpy as np\n",
        "import pywt\n",
        "from skimage.restoration import denoise_wavelet\n",
        "import matplotlib.pyplot as plt\n",
        "import pandas as pd\n",
        "from math import log10, sqrt\n",
        "import cv2\n",
        "import numpy as np"
      ],
      "execution_count": 117,
      "outputs": []
    },
    {
      "cell_type": "code",
      "metadata": {
        "id": "Bsu-EBO6-zRr"
      },
      "source": [
        "from sklearn.metrics import  mean_squared_error, mean_absolute_error, max_error\n",
        "import math\n",
        "\n",
        "def get_rmse(y_target, y_computed):\n",
        "  RMSE = mean_squared_error(y_target, y_computed, squared=False)\n",
        "  return RMSE"
      ],
      "execution_count": 118,
      "outputs": []
    },
    {
      "cell_type": "code",
      "metadata": {
        "id": "LinVItLQA7tQ"
      },
      "source": [
        "from google.colab import auth\n",
        "auth.authenticate_user()\n",
        "\n",
        "import gspread\n",
        "from gspread_dataframe import set_with_dataframe\n",
        "from oauth2client.client import GoogleCredentials\n",
        "\n",
        "gc = gspread.authorize(GoogleCredentials.get_application_default())"
      ],
      "execution_count": 119,
      "outputs": []
    },
    {
      "cell_type": "code",
      "source": [
        "# Load worksheet\n",
        "repo = gc.open_by_url('https://docs.google.com/spreadsheets/d/1VB7SaGWtdRc8lsV4EXCRuQfwXWYLnf8KbMgmsqezgZs/edit#gid=1342867710')\n",
        "worksheet = repo.worksheet('CCSN_signal60_dist5.0')\n",
        "\n",
        "#make a df\n",
        "CCSN60 = worksheet.get_all_values()\n",
        "ccsn_df = pd.DataFrame(CCSN60)\n",
        "ccsn_df.columns = ccsn_df.iloc[0]\n",
        "ccsn_df = ccsn_df.iloc[1:]\n",
        "\n",
        "#make numeric\n",
        "ccsn_df = ccsn_df.apply(pd.to_numeric)"
      ],
      "metadata": {
        "id": "OqfkgzDojKGw"
      },
      "execution_count": 120,
      "outputs": []
    },
    {
      "cell_type": "markdown",
      "metadata": {
        "id": "oUQ2nMelqfns"
      },
      "source": [
        "#Test against Lopac 2020\n"
      ]
    },
    {
      "cell_type": "markdown",
      "source": [
        "###Table 1. Denoising results for the CCSN signal s20a1o05 at a distance of 5 kpc (SNR = 3.9 dB)."
      ],
      "metadata": {
        "id": "e-EFdcjNbrAZ"
      }
    },
    {
      "cell_type": "code",
      "metadata": {
        "colab": {
          "base_uri": "https://localhost:8080/",
          "height": 298
        },
        "id": "e7MUeV4lc6RV",
        "outputId": "cac0c1ae-34ac-4086-81a2-f8fbd0b715f1"
      },
      "source": [
        "noisy_norm_df = ccsn_df['signal + noise'].loc[20000:24000]/max(ccsn_df['signal + noise'].loc[20000:24000])\n",
        "signal_norm_df = ccsn_df['signal template'].loc[20000:24000]/max(ccsn_df['signal + noise'].loc[20000:24000])\n",
        "\n",
        "plt.plot(noisy_norm_df, label ='Signal embedded in noise')\n",
        "plt.title('Signal 60, 5pc')\n",
        "plt.plot(signal_norm_df, label ='Signal template')\n",
        "plt.legend()"
      ],
      "execution_count": 121,
      "outputs": [
        {
          "output_type": "execute_result",
          "data": {
            "text/plain": [
              "<matplotlib.legend.Legend at 0x7f54625cb750>"
            ]
          },
          "metadata": {},
          "execution_count": 121
        },
        {
          "output_type": "display_data",
          "data": {
            "image/png": "[encoded data removed]",
            "text/plain": [
              "<Figure size 432x288 with 1 Axes>"
            ]
          },
          "metadata": {
            "needs_background": "light"
          }
        }
      ]
    },
    {
      "cell_type": "markdown",
      "source": [
        "Declare necessary lists for table 1"
      ],
      "metadata": {
        "id": "699KHPHuR3Hg"
      }
    },
    {
      "cell_type": "code",
      "source": [
        "metrics = ['RMSE','MAE','MAX']\n",
        "wavelets = ['sym5','db13','coif1']\n",
        "levels = [6,5,7]\n",
        "methods = ['BayesShrink','VisuShrink']\n",
        "indexcol = ['RMSE','MAE','MAX']\n",
        "\n",
        "signalno = 'signal 60'\n",
        "signaldistance = '5 kpc'"
      ],
      "metadata": {
        "id": "WAvmyHgM-8vU"
      },
      "execution_count": 122,
      "outputs": []
    },
    {
      "cell_type": "markdown",
      "source": [
        "Create a main list that appends each line and each metric result"
      ],
      "metadata": {
        "id": "o6TcXTThU-CR"
      }
    },
    {
      "cell_type": "code",
      "source": [
        "main_list = []\n",
        "for m in methods:\n",
        "  cols = []\n",
        "  for i in range(len(wavelets)):\n",
        "    #Make a dataframe for the denoised signal of the noisy normalized signal\n",
        "    denoised_df = pd.DataFrame(denoise_wavelet(noisy_norm_df, method = m, mode ='hard', wavelet = wavelets[i], wavelet_levels = levels[i], rescale_sigma = 'True'))\n",
        "    \n",
        "    #Create col1- a list that contains the signal properties (which signal template was used), denoising properties, and denoising performance metrics\n",
        "    col1 = [str(m).upper() +', '+ wavelets[i] + ' level ' + str(levels[i])] \n",
        "    col1.append(get_rmse(signal_norm_df, denoised_df))\n",
        "    col1.append(mean_absolute_error(signal_norm_df, denoised_df))\n",
        "    col1.append(max_error(signal_norm_df, denoised_df))\n",
        "\n",
        "    #append this column to cols- a list of columns for the table \n",
        "    cols.append(col1)\n",
        "  main_list.append(cols)"
      ],
      "metadata": {
        "id": "AAwPiKaXo2GJ"
      },
      "execution_count": 123,
      "outputs": []
    },
    {
      "cell_type": "markdown",
      "source": [
        "FLAG: Loop through **data** dictionary (below)"
      ],
      "metadata": {
        "id": "58k_JgmuYTO8"
      }
    },
    {
      "cell_type": "code",
      "source": [
        "signalnodistance = signalno+' at '+signaldistance\n",
        "\n",
        "data = {signalnodistance: metrics,\n",
        "        #BayesShrink\n",
        "        main_list[0][0][0]: main_list[0][0][1:], #signal properties to be used as column name\n",
        "        main_list[0][1][0]: main_list[0][1][1:],\n",
        "        main_list[0][2][0]: main_list[0][2][1:],\n",
        "\n",
        "        #VisuShrink\n",
        "        main_list[1][0][0]: main_list[1][0][1:], #signal properties to be used as column name\n",
        "        main_list[1][1][0]: main_list[1][1][1:],\n",
        "        main_list[1][2][0]: main_list[1][2][1:],\n",
        "        }\n",
        "\n",
        "# Create DataFrame\n",
        "Table1_df = pd.DataFrame(data)\n",
        " \n",
        "# Print the output.\n",
        "Table1_df"
      ],
      "metadata": {
        "colab": {
          "base_uri": "https://localhost:8080/",
          "height": 205
        },
        "id": "PxeHUmzQU5TL",
        "outputId": "6b893c18-c800-4be9-d573-c73601d20ffe"
      },
      "execution_count": 124,
      "outputs": [
        {
          "output_type": "execute_result",
          "data": {
            "text/html": [
              "\n",
              "  <div id=\"df-14260a1b-f4fb-4b28-b698-4c5d6c4fe225\">\n",
              "    <div class=\"colab-df-container\">\n",
              "      <div>\n",
              "<style scoped>\n",
              "    .dataframe tbody tr th:only-of-type {\n",
              "        vertical-align: middle;\n",
              "    }\n",
              "\n",
              "    .dataframe tbody tr th {\n",
              "        vertical-align: top;\n",
              "    }\n",
              "\n",
              "    .dataframe thead th {\n",
              "        text-align: right;\n",
              "    }\n",
              "</style>\n",
              "<table border=\"1\" class=\"dataframe\">\n",
              "  <thead>\n",
              "    <tr style=\"text-align: right;\">\n",
              "      <th></th>\n",
              "      <th>signal 60 at 5 kpc</th>\n",
              "      <th>BAYESSHRINK, sym5 level 6</th>\n",
              "      <th>BAYESSHRINK, db13 level 5</th>\n",
              "      <th>BAYESSHRINK, coif1 level 7</th>\n",
              "      <th>VISUSHRINK, sym5 level 6</th>\n",
              "      <th>VISUSHRINK, db13 level 5</th>\n",
              "      <th>VISUSHRINK, coif1 level 7</th>\n",
              "    </tr>\n",
              "  </thead>\n",
              "  <tbody>\n",
              "    <tr>\n",
              "      <th>0</th>\n",
              "      <td>RMSE</td>\n",
              "      <td>0.020220</td>\n",
              "      <td>0.019999</td>\n",
              "      <td>0.023458</td>\n",
              "      <td>0.026325</td>\n",
              "      <td>0.019999</td>\n",
              "      <td>0.028494</td>\n",
              "    </tr>\n",
              "    <tr>\n",
              "      <th>1</th>\n",
              "      <td>MAE</td>\n",
              "      <td>0.015235</td>\n",
              "      <td>0.015029</td>\n",
              "      <td>0.017271</td>\n",
              "      <td>0.018474</td>\n",
              "      <td>0.015029</td>\n",
              "      <td>0.020005</td>\n",
              "    </tr>\n",
              "    <tr>\n",
              "      <th>2</th>\n",
              "      <td>MAX</td>\n",
              "      <td>0.102869</td>\n",
              "      <td>0.115272</td>\n",
              "      <td>0.222518</td>\n",
              "      <td>0.139652</td>\n",
              "      <td>0.115272</td>\n",
              "      <td>0.150738</td>\n",
              "    </tr>\n",
              "  </tbody>\n",
              "</table>\n",
              "</div>\n",
              "      <button class=\"colab-df-convert\" onclick=\"convertToInteractive('df-14260a1b-f4fb-4b28-b698-4c5d6c4fe225')\"\n",
              "              title=\"Convert this dataframe to an interactive table.\"\n",
              "              style=\"display:none;\">\n",
              "        \n",
              "  <svg xmlns=\"http://www.w3.org/2000/svg\" height=\"24px\"viewBox=\"0 0 24 24\"\n",
              "       width=\"24px\">\n",
              "    <path d=\"M0 0h24v24H0V0z\" fill=\"none\"/>\n",
              "    <path d=\"M18.56 5.44l.94 2.06.94-2.06 2.06-.94-2.06-.94-.94-2.06-.94 2.06-2.06.94zm-11 1L8.5 8.5l.94-2.06 2.06-.94-2.06-.94L8.5 2.5l-.94 2.06-2.06.94zm10 10l.94 2.06.94-2.06 2.06-.94-2.06-.94-.94-2.06-.94 2.06-2.06.94z\"/><path d=\"M17.41 7.96l-1.37-1.37c-.4-.4-.92-.59-1.43-.59-.52 0-1.04.2-1.43.59L10.3 9.45l-7.72 7.72c-.78.78-.78 2.05 0 2.83L4 21.41c.39.39.9.59 1.41.59.51 0 1.02-.2 1.41-.59l7.78-7.78 2.81-2.81c.8-.78.8-2.07 0-2.86zM5.41 20L4 18.59l7.72-7.72 1.47 1.35L5.41 20z\"/>\n",
              "  </svg>\n",
              "      </button>\n",
              "      \n",
              "  <style>\n",
              "    .colab-df-container {\n",
              "      display:flex;\n",
              "      flex-wrap:wrap;\n",
              "      gap: 12px;\n",
              "    }\n",
              "\n",
              "    .colab-df-convert {\n",
              "      background-color: #E8F0FE;\n",
              "      border: none;\n",
              "      border-radius: 50%;\n",
              "      cursor: pointer;\n",
              "      display: none;\n",
              "      fill: #1967D2;\n",
              "      height: 32px;\n",
              "      padding: 0 0 0 0;\n",
              "      width: 32px;\n",
              "    }\n",
              "\n",
              "    .colab-df-convert:hover {\n",
              "      background-color: #E2EBFA;\n",
              "      box-shadow: 0px 1px 2px rgba(60, 64, 67, 0.3), 0px 1px 3px 1px rgba(60, 64, 67, 0.15);\n",
              "      fill: #174EA6;\n",
              "    }\n",
              "\n",
              "    [theme=dark] .colab-df-convert {\n",
              "      background-color: #3B4455;\n",
              "      fill: #D2E3FC;\n",
              "    }\n",
              "\n",
              "    [theme=dark] .colab-df-convert:hover {\n",
              "      background-color: #434B5C;\n",
              "      box-shadow: 0px 1px 3px 1px rgba(0, 0, 0, 0.15);\n",
              "      filter: drop-shadow(0px 1px 2px rgba(0, 0, 0, 0.3));\n",
              "      fill: #FFFFFF;\n",
              "    }\n",
              "  </style>\n",
              "\n",
              "      <script>\n",
              "        const buttonEl =\n",
              "          document.querySelector('#df-14260a1b-f4fb-4b28-b698-4c5d6c4fe225 button.colab-df-convert');\n",
              "        buttonEl.style.display =\n",
              "          google.colab.kernel.accessAllowed ? 'block' : 'none';\n",
              "\n",
              "        async function convertToInteractive(key) {\n",
              "          const element = document.querySelector('#df-14260a1b-f4fb-4b28-b698-4c5d6c4fe225');\n",
              "          const dataTable =\n",
              "            await google.colab.kernel.invokeFunction('convertToInteractive',\n",
              "                                                     [key], {});\n",
              "          if (!dataTable) return;\n",
              "\n",
              "          const docLinkHtml = 'Like what you see? Visit the ' +\n",
              "            '<a target=\"_blank\" href=https://colab.research.google.com/notebooks/data_table.ipynb>data table notebook</a>'\n",
              "            + ' to learn more about interactive tables.';\n",
              "          element.innerHTML = '';\n",
              "          dataTable['output_type'] = 'display_data';\n",
              "          await google.colab.output.renderOutput(dataTable, element);\n",
              "          const docLink = document.createElement('div');\n",
              "          docLink.innerHTML = docLinkHtml;\n",
              "          element.appendChild(docLink);\n",
              "        }\n",
              "      </script>\n",
              "    </div>\n",
              "  </div>\n",
              "  "
            ],
            "text/plain": [
              "  signal 60 at 5 kpc  ...  VISUSHRINK, coif1 level 7\n",
              "0               RMSE  ...                   0.028494\n",
              "1                MAE  ...                   0.020005\n",
              "2                MAX  ...                   0.150738\n",
              "\n",
              "[3 rows x 7 columns]"
            ]
          },
          "metadata": {},
          "execution_count": 124
        }
      ]
    },
    {
      "cell_type": "markdown",
      "source": [
        "###Table 2. Denoising results for the CCSN signal s20a1o05 at a distance of 10 kpc (SNR = −2.11 dB)."
      ],
      "metadata": {
        "id": "DgRvxnpYi1XV"
      }
    },
    {
      "cell_type": "code",
      "source": [
        "# Load worksheet\n",
        "worksheet = repo.worksheet('CCSN_signal60_dist10.0')\n",
        "\n",
        "#make a df\n",
        "CCSN60 = worksheet.get_all_values()\n",
        "ccsn_df = pd.DataFrame(CCSN60)\n",
        "ccsn_df.columns = ccsn_df.iloc[0]\n",
        "ccsn_df = ccsn_df.iloc[1:]\n",
        "\n",
        "#make numeric\n",
        "ccsn_df = ccsn_df.apply(pd.to_numeric)"
      ],
      "metadata": {
        "id": "jkZJ8TorjPWe"
      },
      "execution_count": 125,
      "outputs": []
    },
    {
      "cell_type": "markdown",
      "source": [
        "Plot the signal and the template embedded (note the lower peaks due to higher distance --> more noise relatively)"
      ],
      "metadata": {
        "id": "GkNpwbV_k_bR"
      }
    },
    {
      "cell_type": "code",
      "metadata": {
        "colab": {
          "base_uri": "https://localhost:8080/",
          "height": 298
        },
        "outputId": "01c93e95-9fd4-4afe-88d0-7fbd81588f3c",
        "id": "AjjKY_X2jPWf"
      },
      "source": [
        "noisy_norm_df = ccsn_df['signal + noise'].loc[20000:24000]/max(ccsn_df['signal + noise'].loc[20000:24000])\n",
        "signal_norm_df = ccsn_df['signal template'].loc[20000:24000]/max(ccsn_df['signal + noise'].loc[20000:24000])\n",
        "\n",
        "plt.plot(noisy_norm_df, label ='Signal embedded in noise')\n",
        "plt.title('Signal 60, 10kpc')\n",
        "plt.plot(signal_norm_df, label ='Signal template')\n",
        "plt.legend()"
      ],
      "execution_count": 126,
      "outputs": [
        {
          "output_type": "execute_result",
          "data": {
            "text/plain": [
              "<matplotlib.legend.Legend at 0x7f546292e250>"
            ]
          },
          "metadata": {},
          "execution_count": 126
        },
        {
          "output_type": "display_data",
          "data": {
            "image/png": "[encoded data removed]",
            "text/plain": [
              "<Figure size 432x288 with 1 Axes>"
            ]
          },
          "metadata": {
            "needs_background": "light"
          }
        }
      ]
    },
    {
      "cell_type": "markdown",
      "source": [
        "Declare necessary lists for Table 2"
      ],
      "metadata": {
        "id": "NopyNnC7jPWg"
      }
    },
    {
      "cell_type": "code",
      "source": [
        "metrics = ['RMSE','MAE','MAX']\n",
        "wavelets = ['sym4','db13','coif4']\n",
        "levels = [6,5,5]\n",
        "methods = ['BayesShrink','VisuShrink']\n",
        "indexcol = ['RMSE','MAE','MAX']\n",
        "\n",
        "signalno = 'signal 60'\n",
        "signaldistance = '10 kpc'"
      ],
      "metadata": {
        "id": "-hnyPnXyjPWg"
      },
      "execution_count": 127,
      "outputs": []
    },
    {
      "cell_type": "markdown",
      "source": [
        "Create a main list that appends each line and each metric result"
      ],
      "metadata": {
        "id": "98SLbx7CjPWg"
      }
    },
    {
      "cell_type": "code",
      "source": [
        "main_list = []\n",
        "for m in methods:\n",
        "  cols = []\n",
        "  for i in range(len(wavelets)):\n",
        "    #Make a dataframe for the denoised signal of the noisy normalized signal\n",
        "    denoised_df = pd.DataFrame(denoise_wavelet(noisy_norm_df, method = m, mode ='hard', wavelet = wavelets[i], wavelet_levels = levels[i], rescale_sigma = 'True'))\n",
        "    \n",
        "    #Create col1- a list that contains the signal properties (which signal template was used), denoising properties, and denoising performance metrics\n",
        "    col1 = [str(m).upper() +', '+ wavelets[i] + ' level ' + str(levels[i])] \n",
        "    col1.append(get_rmse(signal_norm_df, denoised_df))\n",
        "    col1.append(mean_absolute_error(signal_norm_df, denoised_df))\n",
        "    col1.append(max_error(signal_norm_df, denoised_df))\n",
        "\n",
        "    #append this column to cols- a list of columns for the table \n",
        "    cols.append(col1)\n",
        "  main_list.append(cols)"
      ],
      "metadata": {
        "id": "VJkH0ek4_osj"
      },
      "execution_count": 128,
      "outputs": []
    },
    {
      "cell_type": "markdown",
      "source": [
        "FLAG: Loop through **data** dictionary (below)"
      ],
      "metadata": {
        "id": "KpN33e1r_osk"
      }
    },
    {
      "cell_type": "code",
      "source": [
        "signalnodistance = signalno+' at '+signaldistance\n",
        "\n",
        "data = {signalnodistance: metrics,\n",
        "        #BayesShrink\n",
        "        main_list[0][0][0]: main_list[0][0][1:], #signal properties to be used as column name\n",
        "        main_list[0][1][0]: main_list[0][1][1:],\n",
        "        main_list[0][2][0]: main_list[0][2][1:],\n",
        "\n",
        "        #VisuShrink\n",
        "        main_list[1][0][0]: main_list[1][0][1:], #signal properties to be used as column name\n",
        "        main_list[1][1][0]: main_list[1][1][1:],\n",
        "        main_list[1][2][0]: main_list[1][2][1:],\n",
        "        }\n",
        "\n",
        "# Create DataFrame\n",
        "Table2_df = pd.DataFrame(data)\n",
        " \n",
        "# Print the output.\n",
        "Table2_df"
      ],
      "metadata": {
        "colab": {
          "base_uri": "https://localhost:8080/",
          "height": 205
        },
        "outputId": "3fc05adf-7de8-4af6-fe86-dba32fff66c1",
        "id": "CYuGD6h2_osk"
      },
      "execution_count": 129,
      "outputs": [
        {
          "output_type": "execute_result",
          "data": {
            "text/html": [
              "\n",
              "  <div id=\"df-047cd688-758c-4ce0-8894-18c07c20b33c\">\n",
              "    <div class=\"colab-df-container\">\n",
              "      <div>\n",
              "<style scoped>\n",
              "    .dataframe tbody tr th:only-of-type {\n",
              "        vertical-align: middle;\n",
              "    }\n",
              "\n",
              "    .dataframe tbody tr th {\n",
              "        vertical-align: top;\n",
              "    }\n",
              "\n",
              "    .dataframe thead th {\n",
              "        text-align: right;\n",
              "    }\n",
              "</style>\n",
              "<table border=\"1\" class=\"dataframe\">\n",
              "  <thead>\n",
              "    <tr style=\"text-align: right;\">\n",
              "      <th></th>\n",
              "      <th>signal 60 at 10 kpc</th>\n",
              "      <th>BAYESSHRINK, sym4 level 6</th>\n",
              "      <th>BAYESSHRINK, db13 level 5</th>\n",
              "      <th>BAYESSHRINK, coif4 level 5</th>\n",
              "      <th>VISUSHRINK, sym4 level 6</th>\n",
              "      <th>VISUSHRINK, db13 level 5</th>\n",
              "      <th>VISUSHRINK, coif4 level 5</th>\n",
              "    </tr>\n",
              "  </thead>\n",
              "  <tbody>\n",
              "    <tr>\n",
              "      <th>0</th>\n",
              "      <td>RMSE</td>\n",
              "      <td>0.030498</td>\n",
              "      <td>0.028114</td>\n",
              "      <td>0.030966</td>\n",
              "      <td>0.029825</td>\n",
              "      <td>0.028114</td>\n",
              "      <td>0.029792</td>\n",
              "    </tr>\n",
              "    <tr>\n",
              "      <th>1</th>\n",
              "      <td>MAE</td>\n",
              "      <td>0.022585</td>\n",
              "      <td>0.021953</td>\n",
              "      <td>0.022651</td>\n",
              "      <td>0.021410</td>\n",
              "      <td>0.021953</td>\n",
              "      <td>0.022080</td>\n",
              "    </tr>\n",
              "    <tr>\n",
              "      <th>2</th>\n",
              "      <td>MAX</td>\n",
              "      <td>0.159565</td>\n",
              "      <td>0.109869</td>\n",
              "      <td>0.168393</td>\n",
              "      <td>0.161494</td>\n",
              "      <td>0.109869</td>\n",
              "      <td>0.150269</td>\n",
              "    </tr>\n",
              "  </tbody>\n",
              "</table>\n",
              "</div>\n",
              "      <button class=\"colab-df-convert\" onclick=\"convertToInteractive('df-047cd688-758c-4ce0-8894-18c07c20b33c')\"\n",
              "              title=\"Convert this dataframe to an interactive table.\"\n",
              "              style=\"display:none;\">\n",
              "        \n",
              "  <svg xmlns=\"http://www.w3.org/2000/svg\" height=\"24px\"viewBox=\"0 0 24 24\"\n",
              "       width=\"24px\">\n",
              "    <path d=\"M0 0h24v24H0V0z\" fill=\"none\"/>\n",
              "    <path d=\"M18.56 5.44l.94 2.06.94-2.06 2.06-.94-2.06-.94-.94-2.06-.94 2.06-2.06.94zm-11 1L8.5 8.5l.94-2.06 2.06-.94-2.06-.94L8.5 2.5l-.94 2.06-2.06.94zm10 10l.94 2.06.94-2.06 2.06-.94-2.06-.94-.94-2.06-.94 2.06-2.06.94z\"/><path d=\"M17.41 7.96l-1.37-1.37c-.4-.4-.92-.59-1.43-.59-.52 0-1.04.2-1.43.59L10.3 9.45l-7.72 7.72c-.78.78-.78 2.05 0 2.83L4 21.41c.39.39.9.59 1.41.59.51 0 1.02-.2 1.41-.59l7.78-7.78 2.81-2.81c.8-.78.8-2.07 0-2.86zM5.41 20L4 18.59l7.72-7.72 1.47 1.35L5.41 20z\"/>\n",
              "  </svg>\n",
              "      </button>\n",
              "      \n",
              "  <style>\n",
              "    .colab-df-container {\n",
              "      display:flex;\n",
              "      flex-wrap:wrap;\n",
              "      gap: 12px;\n",
              "    }\n",
              "\n",
              "    .colab-df-convert {\n",
              "      background-color: #E8F0FE;\n",
              "      border: none;\n",
              "      border-radius: 50%;\n",
              "      cursor: pointer;\n",
              "      display: none;\n",
              "      fill: #1967D2;\n",
              "      height: 32px;\n",
              "      padding: 0 0 0 0;\n",
              "      width: 32px;\n",
              "    }\n",
              "\n",
              "    .colab-df-convert:hover {\n",
              "      background-color: #E2EBFA;\n",
              "      box-shadow: 0px 1px 2px rgba(60, 64, 67, 0.3), 0px 1px 3px 1px rgba(60, 64, 67, 0.15);\n",
              "      fill: #174EA6;\n",
              "    }\n",
              "\n",
              "    [theme=dark] .colab-df-convert {\n",
              "      background-color: #3B4455;\n",
              "      fill: #D2E3FC;\n",
              "    }\n",
              "\n",
              "    [theme=dark] .colab-df-convert:hover {\n",
              "      background-color: #434B5C;\n",
              "      box-shadow: 0px 1px 3px 1px rgba(0, 0, 0, 0.15);\n",
              "      filter: drop-shadow(0px 1px 2px rgba(0, 0, 0, 0.3));\n",
              "      fill: #FFFFFF;\n",
              "    }\n",
              "  </style>\n",
              "\n",
              "      <script>\n",
              "        const buttonEl =\n",
              "          document.querySelector('#df-047cd688-758c-4ce0-8894-18c07c20b33c button.colab-df-convert');\n",
              "        buttonEl.style.display =\n",
              "          google.colab.kernel.accessAllowed ? 'block' : 'none';\n",
              "\n",
              "        async function convertToInteractive(key) {\n",
              "          const element = document.querySelector('#df-047cd688-758c-4ce0-8894-18c07c20b33c');\n",
              "          const dataTable =\n",
              "            await google.colab.kernel.invokeFunction('convertToInteractive',\n",
              "                                                     [key], {});\n",
              "          if (!dataTable) return;\n",
              "\n",
              "          const docLinkHtml = 'Like what you see? Visit the ' +\n",
              "            '<a target=\"_blank\" href=https://colab.research.google.com/notebooks/data_table.ipynb>data table notebook</a>'\n",
              "            + ' to learn more about interactive tables.';\n",
              "          element.innerHTML = '';\n",
              "          dataTable['output_type'] = 'display_data';\n",
              "          await google.colab.output.renderOutput(dataTable, element);\n",
              "          const docLink = document.createElement('div');\n",
              "          docLink.innerHTML = docLinkHtml;\n",
              "          element.appendChild(docLink);\n",
              "        }\n",
              "      </script>\n",
              "    </div>\n",
              "  </div>\n",
              "  "
            ],
            "text/plain": [
              "  signal 60 at 10 kpc  ...  VISUSHRINK, coif4 level 5\n",
              "0                RMSE  ...                   0.029792\n",
              "1                 MAE  ...                   0.022080\n",
              "2                 MAX  ...                   0.150269\n",
              "\n",
              "[3 rows x 7 columns]"
            ]
          },
          "metadata": {},
          "execution_count": 129
        }
      ]
    },
    {
      "cell_type": "markdown",
      "source": [
        "###Table 3"
      ],
      "metadata": {
        "id": "zWX-63b2luYi"
      }
    },
    {
      "cell_type": "code",
      "source": [
        "# Load worksheet\n",
        "worksheet = repo.worksheet('CCSN_signal60_dist20.0')\n",
        "\n",
        "#make a df\n",
        "CCSN60 = worksheet.get_all_values()\n",
        "ccsn_df = pd.DataFrame(CCSN60)\n",
        "ccsn_df.columns = ccsn_df.iloc[0]\n",
        "ccsn_df = ccsn_df.iloc[1:]\n",
        "\n",
        "#make numeric\n",
        "ccsn_df = ccsn_df.apply(pd.to_numeric)"
      ],
      "metadata": {
        "id": "XFIMRnJdluYj"
      },
      "execution_count": 130,
      "outputs": []
    },
    {
      "cell_type": "markdown",
      "source": [
        "Plot the signal and the template embedded (note the lower peaks due to higher distance --> more noise relatively)"
      ],
      "metadata": {
        "id": "gTKpECvCluYj"
      }
    },
    {
      "cell_type": "code",
      "metadata": {
        "colab": {
          "base_uri": "https://localhost:8080/",
          "height": 298
        },
        "outputId": "beb41f89-c5e0-4ffa-8f73-0cc35a4a7fa4",
        "id": "B6djb7sLluYj"
      },
      "source": [
        "noisy_norm_df = ccsn_df['signal + noise'].loc[20000:24000]/max(ccsn_df['signal + noise'].loc[20000:24000])\n",
        "signal_norm_df = ccsn_df['signal template'].loc[20000:24000]/max(ccsn_df['signal + noise'].loc[20000:24000])\n",
        "\n",
        "plt.plot(noisy_norm_df, label ='Signal embedded in noise')\n",
        "plt.title('Signal 60, 10kpc')\n",
        "plt.plot(signal_norm_df, label ='Signal template')\n",
        "plt.legend()"
      ],
      "execution_count": 131,
      "outputs": [
        {
          "output_type": "execute_result",
          "data": {
            "text/plain": [
              "<matplotlib.legend.Legend at 0x7f546266b050>"
            ]
          },
          "metadata": {},
          "execution_count": 131
        },
        {
          "output_type": "display_data",
          "data": {
            "image/png": "[encoded data removed]",
            "text/plain": [
              "<Figure size 432x288 with 1 Axes>"
            ]
          },
          "metadata": {
            "needs_background": "light"
          }
        }
      ]
    },
    {
      "cell_type": "markdown",
      "source": [
        "Declare necessary lists for table 3"
      ],
      "metadata": {
        "id": "u7k9dTKMluYj"
      }
    },
    {
      "cell_type": "code",
      "source": [
        "metrics = ['RMSE','MAE','MAX']\n",
        "wavelets = ['sym3','db3','coif1']\n",
        "levels = [7,7,7]\n",
        "methods = ['BayesShrink','VisuShrink']\n",
        "indexcol = ['RMSE','MAE','MAX']\n",
        "\n",
        "signalno = 'signal 60'\n",
        "signaldistance = '20 kpc'"
      ],
      "metadata": {
        "id": "5vZ6NYA_luYj"
      },
      "execution_count": 132,
      "outputs": []
    },
    {
      "cell_type": "markdown",
      "source": [
        "Create a main list that appends each line and each metric result"
      ],
      "metadata": {
        "id": "CEYXkPJQluYj"
      }
    },
    {
      "cell_type": "code",
      "source": [
        "main_list = []\n",
        "for m in methods:\n",
        "  cols = []\n",
        "  for i in range(len(wavelets)):\n",
        "    #Make a dataframe for the denoised signal of the noisy normalized signal\n",
        "    denoised_df = pd.DataFrame(denoise_wavelet(noisy_norm_df, method = m, mode ='hard', wavelet = wavelets[i], wavelet_levels = levels[i], rescale_sigma = 'True'))\n",
        "    \n",
        "    #Create col1- a list that contains the signal properties (which signal template was used), denoising properties, and denoising performance metrics\n",
        "    col1 = [str(m).upper() +', '+ wavelets[i] + ' level ' + str(levels[i])] \n",
        "    col1.append(get_rmse(signal_norm_df, denoised_df))\n",
        "    col1.append(mean_absolute_error(signal_norm_df, denoised_df))\n",
        "    col1.append(max_error(signal_norm_df, denoised_df))\n",
        "\n",
        "    #append this column to cols- a list of columns for the table \n",
        "    cols.append(col1)\n",
        "  main_list.append(cols)"
      ],
      "metadata": {
        "id": "knDJNy5a_1YY"
      },
      "execution_count": 133,
      "outputs": []
    },
    {
      "cell_type": "markdown",
      "source": [
        "FLAG: Loop through **data** dictionary (below)"
      ],
      "metadata": {
        "id": "5RzVCjbw_1YZ"
      }
    },
    {
      "cell_type": "code",
      "source": [
        "signalnodistance = signalno+' at '+signaldistance\n",
        "\n",
        "data = {signalnodistance: metrics,\n",
        "        #BayesShrink\n",
        "        main_list[0][0][0]: main_list[0][0][1:], #signal properties to be used as column name\n",
        "        main_list[0][1][0]: main_list[0][1][1:],\n",
        "        main_list[0][2][0]: main_list[0][2][1:],\n",
        "\n",
        "        #VisuShrink\n",
        "        main_list[1][0][0]: main_list[1][0][1:], #signal properties to be used as column name\n",
        "        main_list[1][1][0]: main_list[1][1][1:],\n",
        "        main_list[1][2][0]: main_list[1][2][1:],\n",
        "        }\n",
        "\n",
        "# Create DataFrame\n",
        "Table3_df = pd.DataFrame(data)\n",
        " \n",
        "# Print the output.\n",
        "Table3_df"
      ],
      "metadata": {
        "colab": {
          "base_uri": "https://localhost:8080/",
          "height": 205
        },
        "outputId": "6c78653f-48a5-4682-fed4-4d86f0a2515e",
        "id": "fv9YDk9I_1YZ"
      },
      "execution_count": 134,
      "outputs": [
        {
          "output_type": "execute_result",
          "data": {
            "text/html": [
              "\n",
              "  <div id=\"df-c8c06f6a-e522-4f52-9fa6-cc8719f196ac\">\n",
              "    <div class=\"colab-df-container\">\n",
              "      <div>\n",
              "<style scoped>\n",
              "    .dataframe tbody tr th:only-of-type {\n",
              "        vertical-align: middle;\n",
              "    }\n",
              "\n",
              "    .dataframe tbody tr th {\n",
              "        vertical-align: top;\n",
              "    }\n",
              "\n",
              "    .dataframe thead th {\n",
              "        text-align: right;\n",
              "    }\n",
              "</style>\n",
              "<table border=\"1\" class=\"dataframe\">\n",
              "  <thead>\n",
              "    <tr style=\"text-align: right;\">\n",
              "      <th></th>\n",
              "      <th>signal 60 at 20 kpc</th>\n",
              "      <th>BAYESSHRINK, sym3 level 7</th>\n",
              "      <th>BAYESSHRINK, db3 level 7</th>\n",
              "      <th>BAYESSHRINK, coif1 level 7</th>\n",
              "      <th>VISUSHRINK, sym3 level 7</th>\n",
              "      <th>VISUSHRINK, db3 level 7</th>\n",
              "      <th>VISUSHRINK, coif1 level 7</th>\n",
              "    </tr>\n",
              "  </thead>\n",
              "  <tbody>\n",
              "    <tr>\n",
              "      <th>0</th>\n",
              "      <td>RMSE</td>\n",
              "      <td>0.037043</td>\n",
              "      <td>0.037043</td>\n",
              "      <td>0.038381</td>\n",
              "      <td>0.031367</td>\n",
              "      <td>0.031367</td>\n",
              "      <td>0.033407</td>\n",
              "    </tr>\n",
              "    <tr>\n",
              "      <th>1</th>\n",
              "      <td>MAE</td>\n",
              "      <td>0.027470</td>\n",
              "      <td>0.027470</td>\n",
              "      <td>0.026998</td>\n",
              "      <td>0.020919</td>\n",
              "      <td>0.020919</td>\n",
              "      <td>0.020799</td>\n",
              "    </tr>\n",
              "    <tr>\n",
              "      <th>2</th>\n",
              "      <td>MAX</td>\n",
              "      <td>0.194454</td>\n",
              "      <td>0.194454</td>\n",
              "      <td>0.289016</td>\n",
              "      <td>0.224323</td>\n",
              "      <td>0.224323</td>\n",
              "      <td>0.327023</td>\n",
              "    </tr>\n",
              "  </tbody>\n",
              "</table>\n",
              "</div>\n",
              "      <button class=\"colab-df-convert\" onclick=\"convertToInteractive('df-c8c06f6a-e522-4f52-9fa6-cc8719f196ac')\"\n",
              "              title=\"Convert this dataframe to an interactive table.\"\n",
              "              style=\"display:none;\">\n",
              "        \n",
              "  <svg xmlns=\"http://www.w3.org/2000/svg\" height=\"24px\"viewBox=\"0 0 24 24\"\n",
              "       width=\"24px\">\n",
              "    <path d=\"M0 0h24v24H0V0z\" fill=\"none\"/>\n",
              "    <path d=\"M18.56 5.44l.94 2.06.94-2.06 2.06-.94-2.06-.94-.94-2.06-.94 2.06-2.06.94zm-11 1L8.5 8.5l.94-2.06 2.06-.94-2.06-.94L8.5 2.5l-.94 2.06-2.06.94zm10 10l.94 2.06.94-2.06 2.06-.94-2.06-.94-.94-2.06-.94 2.06-2.06.94z\"/><path d=\"M17.41 7.96l-1.37-1.37c-.4-.4-.92-.59-1.43-.59-.52 0-1.04.2-1.43.59L10.3 9.45l-7.72 7.72c-.78.78-.78 2.05 0 2.83L4 21.41c.39.39.9.59 1.41.59.51 0 1.02-.2 1.41-.59l7.78-7.78 2.81-2.81c.8-.78.8-2.07 0-2.86zM5.41 20L4 18.59l7.72-7.72 1.47 1.35L5.41 20z\"/>\n",
              "  </svg>\n",
              "      </button>\n",
              "      \n",
              "  <style>\n",
              "    .colab-df-container {\n",
              "      display:flex;\n",
              "      flex-wrap:wrap;\n",
              "      gap: 12px;\n",
              "    }\n",
              "\n",
              "    .colab-df-convert {\n",
              "      background-color: #E8F0FE;\n",
              "      border: none;\n",
              "      border-radius: 50%;\n",
              "      cursor: pointer;\n",
              "      display: none;\n",
              "      fill: #1967D2;\n",
              "      height: 32px;\n",
              "      padding: 0 0 0 0;\n",
              "      width: 32px;\n",
              "    }\n",
              "\n",
              "    .colab-df-convert:hover {\n",
              "      background-color: #E2EBFA;\n",
              "      box-shadow: 0px 1px 2px rgba(60, 64, 67, 0.3), 0px 1px 3px 1px rgba(60, 64, 67, 0.15);\n",
              "      fill: #174EA6;\n",
              "    }\n",
              "\n",
              "    [theme=dark] .colab-df-convert {\n",
              "      background-color: #3B4455;\n",
              "      fill: #D2E3FC;\n",
              "    }\n",
              "\n",
              "    [theme=dark] .colab-df-convert:hover {\n",
              "      background-color: #434B5C;\n",
              "      box-shadow: 0px 1px 3px 1px rgba(0, 0, 0, 0.15);\n",
              "      filter: drop-shadow(0px 1px 2px rgba(0, 0, 0, 0.3));\n",
              "      fill: #FFFFFF;\n",
              "    }\n",
              "  </style>\n",
              "\n",
              "      <script>\n",
              "        const buttonEl =\n",
              "          document.querySelector('#df-c8c06f6a-e522-4f52-9fa6-cc8719f196ac button.colab-df-convert');\n",
              "        buttonEl.style.display =\n",
              "          google.colab.kernel.accessAllowed ? 'block' : 'none';\n",
              "\n",
              "        async function convertToInteractive(key) {\n",
              "          const element = document.querySelector('#df-c8c06f6a-e522-4f52-9fa6-cc8719f196ac');\n",
              "          const dataTable =\n",
              "            await google.colab.kernel.invokeFunction('convertToInteractive',\n",
              "                                                     [key], {});\n",
              "          if (!dataTable) return;\n",
              "\n",
              "          const docLinkHtml = 'Like what you see? Visit the ' +\n",
              "            '<a target=\"_blank\" href=https://colab.research.google.com/notebooks/data_table.ipynb>data table notebook</a>'\n",
              "            + ' to learn more about interactive tables.';\n",
              "          element.innerHTML = '';\n",
              "          dataTable['output_type'] = 'display_data';\n",
              "          await google.colab.output.renderOutput(dataTable, element);\n",
              "          const docLink = document.createElement('div');\n",
              "          docLink.innerHTML = docLinkHtml;\n",
              "          element.appendChild(docLink);\n",
              "        }\n",
              "      </script>\n",
              "    </div>\n",
              "  </div>\n",
              "  "
            ],
            "text/plain": [
              "  signal 60 at 20 kpc  ...  VISUSHRINK, coif1 level 7\n",
              "0                RMSE  ...                   0.033407\n",
              "1                 MAE  ...                   0.020799\n",
              "2                 MAX  ...                   0.327023\n",
              "\n",
              "[3 rows x 7 columns]"
            ]
          },
          "metadata": {},
          "execution_count": 134
        }
      ]
    },
    {
      "cell_type": "markdown",
      "source": [
        "======================================================================================================\n",
        "\n",
        "NEXT STEPS:\n",
        "\n",
        "1. Make a function just gives the table after inputting the signal, distance, and denoising properties\n",
        "2. Loop through all denoising properties to find the best ones\n",
        "3. Loop through the table-making (flagged)\n",
        "\n",
        "*denoising properties-wavelet and level\n",
        "\n",
        "======================================================================================================"
      ],
      "metadata": {
        "id": "SW0UBPMpjnOb"
      }
    }
  ]
}