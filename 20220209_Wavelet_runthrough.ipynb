{
  "nbformat": 4,
  "nbformat_minor": 0,
  "metadata": {
    "colab": {
      "name": "20220209 Wavelet runthrough.ipynb",
      "provenance": [],
      "collapsed_sections": [],
      "mount_file_id": "1Dzs2oPNvy0ila88gSlFthJhpeodX4aYY",
      "authorship_tag": "ABX9TyMyqFskg3CJw5g7IpiG3YND",
      "include_colab_link": true
    },
    "kernelspec": {
      "name": "python3",
      "display_name": "Python 3"
    },
    "language_info": {
      "name": "python"
    }
  },
  "cells": [
    {
      "cell_type": "markdown",
      "metadata": {
        "id": "view-in-github",
        "colab_type": "text"
      },
      "source": [
        "<a href=\"https://colab.research.google.com/github/Calista-F/CCSN-gravitational-wave-denoising/blob/main/20220209_Wavelet_runthrough.ipynb\" target=\"_parent\"><img src=\"https://colab.research.google.com/assets/colab-badge.svg\" alt=\"Open In Colab\"/></a>"
      ]
    },
    {
      "cell_type": "code",
      "metadata": {
        "id": "wVNfRB4dH5qu"
      },
      "source": [
        "import numpy as np\n",
        "import pywt\n",
        "from skimage.restoration import denoise_wavelet\n",
        "import matplotlib.pyplot as plt\n",
        "import pandas as pd\n",
        "from math import log10, sqrt\n",
        "import cv2\n",
        "import numpy as np"
      ],
      "execution_count": 1,
      "outputs": []
    },
    {
      "cell_type": "code",
      "metadata": {
        "id": "Bsu-EBO6-zRr"
      },
      "source": [
        "from sklearn.metrics import  mean_squared_error, mean_absolute_error, max_error\n",
        "import math\n",
        "\n",
        "def get_rmse(y_target, y_computed):\n",
        "  RMSE = mean_squared_error(y_target, y_computed, squared=False)\n",
        "  return RMSE"
      ],
      "execution_count": 2,
      "outputs": []
    },
    {
      "cell_type": "code",
      "metadata": {
        "id": "LinVItLQA7tQ"
      },
      "source": [
        "from google.colab import auth\n",
        "auth.authenticate_user()\n",
        "\n",
        "import gspread\n",
        "from gspread_dataframe import set_with_dataframe\n",
        "from oauth2client.client import GoogleCredentials\n",
        "\n",
        "gc = gspread.authorize(GoogleCredentials.get_application_default())"
      ],
      "execution_count": 3,
      "outputs": []
    },
    {
      "cell_type": "code",
      "source": [
        "# Load worksheet\n",
        "repo = gc.open_by_url('https://docs.google.com/spreadsheets/d/1VB7SaGWtdRc8lsV4EXCRuQfwXWYLnf8KbMgmsqezgZs/edit#gid=1342867710')\n",
        "worksheet = repo.worksheet('CCSN_signal60_dist5.0')\n",
        "\n",
        "#make a df\n",
        "CCSN60 = worksheet.get_all_values()\n",
        "ccsn_df = pd.DataFrame(CCSN60)\n",
        "ccsn_df.columns = ccsn_df.iloc[0]\n",
        "ccsn_df = ccsn_df.iloc[1:]\n",
        "\n",
        "#make numeric\n",
        "ccsn_df = ccsn_df.apply(pd.to_numeric)"
      ],
      "metadata": {
        "id": "OqfkgzDojKGw"
      },
      "execution_count": 4,
      "outputs": []
    },
    {
      "cell_type": "markdown",
      "source": [
        "###Table 1. Denoising results for the CCSN signal s20a1o05 at a distance of 5 kpc (SNR = 3.9 dB)."
      ],
      "metadata": {
        "id": "e-EFdcjNbrAZ"
      }
    },
    {
      "cell_type": "code",
      "metadata": {
        "id": "e7MUeV4lc6RV",
        "colab": {
          "base_uri": "https://localhost:8080/",
          "height": 298
        },
        "outputId": "00854bb8-deb1-4462-e07b-5a408d95c5d0"
      },
      "source": [
        "noisy_norm_df = ccsn_df['signal + noise'].loc[20000:24000]/max(ccsn_df['signal + noise'].loc[20000:24000])\n",
        "signal_norm_df = ccsn_df['signal template'].loc[20000:24000]/max(ccsn_df['signal + noise'].loc[20000:24000])\n",
        "\n",
        "plt.plot(noisy_norm_df, label ='Signal embedded in noise')\n",
        "plt.title('Signal 60, 5pc')\n",
        "plt.plot(signal_norm_df, label ='Signal template')\n",
        "plt.legend()"
      ],
      "execution_count": 96,
      "outputs": [
        {
          "output_type": "execute_result",
          "data": {
            "text/plain": [
              "<matplotlib.legend.Legend at 0x7fc16d2ec590>"
            ]
          },
          "metadata": {},
          "execution_count": 96
        },
        {
          "output_type": "display_data",
          "data": {
            "image/png": "[encoded data removed]",
            "text/plain": [
              "<Figure size 432x288 with 1 Axes>"
            ]
          },
          "metadata": {
            "needs_background": "light"
          }
        }
      ]
    },
    {
      "cell_type": "markdown",
      "source": [
        "Declare necessary lists for table 1"
      ],
      "metadata": {
        "id": "699KHPHuR3Hg"
      }
    },
    {
      "cell_type": "code",
      "source": [
        "#pywt.wavelist()"
      ],
      "metadata": {
        "id": "sQ4gMl2zdDf8"
      },
      "execution_count": 97,
      "outputs": []
    },
    {
      "cell_type": "code",
      "source": [
        "metrics = ['RMSE','MAE','MAX']\n",
        "wavelets = ['sym5','db13','coif1']\n",
        "sym_wavelets = ['sym2',\n",
        " 'sym3',\n",
        " 'sym4',\n",
        " 'sym5',\n",
        " 'sym6',\n",
        " 'sym7',\n",
        " 'sym8',\n",
        " 'sym9',\n",
        " 'sym10',\n",
        " 'sym11',\n",
        " 'sym12',\n",
        " 'sym13',\n",
        " 'sym14',\n",
        " 'sym15',\n",
        " 'sym16',\n",
        " 'sym17',\n",
        " 'sym18',\n",
        " 'sym19',\n",
        " 'sym20']\n",
        "levels = np.arange(1,7,1)\n",
        "methods = ['BayesShrink','VisuShrink']\n",
        "indexcol = ['RMSE','MAE','MAX']\n",
        "\n",
        "signalno = 'signal 60'\n",
        "signaldistance = '5 kpc'"
      ],
      "metadata": {
        "id": "WAvmyHgM-8vU"
      },
      "execution_count": 98,
      "outputs": []
    },
    {
      "cell_type": "markdown",
      "source": [
        "Create a main list that appends each line and each metric result"
      ],
      "metadata": {
        "id": "o6TcXTThU-CR"
      }
    },
    {
      "cell_type": "code",
      "source": [
        "main_list = []\n",
        "\n",
        "for m in methods:\n",
        "  cols = []\n",
        "  for i in range(len(sym_wavelets)):\n",
        "    for l in range(len(levels)):\n",
        "      #Make a dataframe for the denoised signal of the noisy normalized signal\n",
        "      denoised_df = pd.DataFrame(denoise_wavelet(noisy_norm_df, method = m, mode ='hard', wavelet = sym_wavelets[i], wavelet_levels = levels[l], rescale_sigma = 'True'))\n",
        "      \n",
        "      #Create col1- a list that contains the signal properties (which signal template was used), denoising properties, and denoising performance metrics\n",
        "      col1 = [str(m).upper() +', '+ sym_wavelets[i] + ' level ' + str(levels[l])] \n",
        "      col1.append(get_rmse(signal_norm_df, denoised_df))\n",
        "      col1.append(mean_absolute_error(signal_norm_df, denoised_df))\n",
        "      col1.append(max_error(signal_norm_df, denoised_df))\n",
        "\n",
        "      #append this column to cols- a list of columns for the table \n",
        "      cols.append(col1)\n",
        "  main_list.append(cols)"
      ],
      "metadata": {
        "id": "NzcdRmAhhIGn"
      },
      "execution_count": 100,
      "outputs": []
    },
    {
      "cell_type": "code",
      "source": [
        "main_array = np.array(main_list)"
      ],
      "metadata": {
        "id": "UWGlzK8RsCkh"
      },
      "execution_count": 101,
      "outputs": []
    },
    {
      "cell_type": "code",
      "source": [
        "main_array.shape"
      ],
      "metadata": {
        "colab": {
          "base_uri": "https://localhost:8080/"
        },
        "id": "AQZXfdiUtxb4",
        "outputId": "14b28950-d209-4247-e36a-0f5a702360bb"
      },
      "execution_count": 103,
      "outputs": [
        {
          "output_type": "execute_result",
          "data": {
            "text/plain": [
              "(2, 114, 4)"
            ]
          },
          "metadata": {},
          "execution_count": 103
        }
      ]
    },
    {
      "cell_type": "code",
      "source": [
        "main_array[:,:,0]"
      ],
      "metadata": {
        "colab": {
          "base_uri": "https://localhost:8080/"
        },
        "id": "kdSZ8RBIsvN9",
        "outputId": "26dde794-953d-4e80-c30d-2638825bb78c"
      },
      "execution_count": 105,
      "outputs": [
        {
          "output_type": "execute_result",
          "data": {
            "text/plain": [
              "array([['BAYESSHRINK, sym2 level 1', 'BAYESSHRINK, sym2 level 2',\n",
              "        'BAYESSHRINK, sym2 level 3', 'BAYESSHRINK, sym2 level 4',\n",
              "        'BAYESSHRINK, sym2 level 5', 'BAYESSHRINK, sym2 level 6',\n",
              "        'BAYESSHRINK, sym3 level 1', 'BAYESSHRINK, sym3 level 2',\n",
              "        'BAYESSHRINK, sym3 level 3', 'BAYESSHRINK, sym3 level 4',\n",
              "        'BAYESSHRINK, sym3 level 5', 'BAYESSHRINK, sym3 level 6',\n",
              "        'BAYESSHRINK, sym4 level 1', 'BAYESSHRINK, sym4 level 2',\n",
              "        'BAYESSHRINK, sym4 level 3', 'BAYESSHRINK, sym4 level 4',\n",
              "        'BAYESSHRINK, sym4 level 5', 'BAYESSHRINK, sym4 level 6',\n",
              "        'BAYESSHRINK, sym5 level 1', 'BAYESSHRINK, sym5 level 2',\n",
              "        'BAYESSHRINK, sym5 level 3', 'BAYESSHRINK, sym5 level 4',\n",
              "        'BAYESSHRINK, sym5 level 5', 'BAYESSHRINK, sym5 level 6',\n",
              "        'BAYESSHRINK, sym6 level 1', 'BAYESSHRINK, sym6 level 2',\n",
              "        'BAYESSHRINK, sym6 level 3', 'BAYESSHRINK, sym6 level 4',\n",
              "        'BAYESSHRINK, sym6 level 5', 'BAYESSHRINK, sym6 level 6',\n",
              "        'BAYESSHRINK, sym7 level 1', 'BAYESSHRINK, sym7 level 2',\n",
              "        'BAYESSHRINK, sym7 level 3', 'BAYESSHRINK, sym7 level 4',\n",
              "        'BAYESSHRINK, sym7 level 5', 'BAYESSHRINK, sym7 level 6',\n",
              "        'BAYESSHRINK, sym8 level 1', 'BAYESSHRINK, sym8 level 2',\n",
              "        'BAYESSHRINK, sym8 level 3', 'BAYESSHRINK, sym8 level 4',\n",
              "        'BAYESSHRINK, sym8 level 5', 'BAYESSHRINK, sym8 level 6',\n",
              "        'BAYESSHRINK, sym9 level 1', 'BAYESSHRINK, sym9 level 2',\n",
              "        'BAYESSHRINK, sym9 level 3', 'BAYESSHRINK, sym9 level 4',\n",
              "        'BAYESSHRINK, sym9 level 5', 'BAYESSHRINK, sym9 level 6',\n",
              "        'BAYESSHRINK, sym10 level 1', 'BAYESSHRINK, sym10 level 2',\n",
              "        'BAYESSHRINK, sym10 level 3', 'BAYESSHRINK, sym10 level 4',\n",
              "        'BAYESSHRINK, sym10 level 5', 'BAYESSHRINK, sym10 level 6',\n",
              "        'BAYESSHRINK, sym11 level 1', 'BAYESSHRINK, sym11 level 2',\n",
              "        'BAYESSHRINK, sym11 level 3', 'BAYESSHRINK, sym11 level 4',\n",
              "        'BAYESSHRINK, sym11 level 5', 'BAYESSHRINK, sym11 level 6',\n",
              "        'BAYESSHRINK, sym12 level 1', 'BAYESSHRINK, sym12 level 2',\n",
              "        'BAYESSHRINK, sym12 level 3', 'BAYESSHRINK, sym12 level 4',\n",
              "        'BAYESSHRINK, sym12 level 5', 'BAYESSHRINK, sym12 level 6',\n",
              "        'BAYESSHRINK, sym13 level 1', 'BAYESSHRINK, sym13 level 2',\n",
              "        'BAYESSHRINK, sym13 level 3', 'BAYESSHRINK, sym13 level 4',\n",
              "        'BAYESSHRINK, sym13 level 5', 'BAYESSHRINK, sym13 level 6',\n",
              "        'BAYESSHRINK, sym14 level 1', 'BAYESSHRINK, sym14 level 2',\n",
              "        'BAYESSHRINK, sym14 level 3', 'BAYESSHRINK, sym14 level 4',\n",
              "        'BAYESSHRINK, sym14 level 5', 'BAYESSHRINK, sym14 level 6',\n",
              "        'BAYESSHRINK, sym15 level 1', 'BAYESSHRINK, sym15 level 2',\n",
              "        'BAYESSHRINK, sym15 level 3', 'BAYESSHRINK, sym15 level 4',\n",
              "        'BAYESSHRINK, sym15 level 5', 'BAYESSHRINK, sym15 level 6',\n",
              "        'BAYESSHRINK, sym16 level 1', 'BAYESSHRINK, sym16 level 2',\n",
              "        'BAYESSHRINK, sym16 level 3', 'BAYESSHRINK, sym16 level 4',\n",
              "        'BAYESSHRINK, sym16 level 5', 'BAYESSHRINK, sym16 level 6',\n",
              "        'BAYESSHRINK, sym17 level 1', 'BAYESSHRINK, sym17 level 2',\n",
              "        'BAYESSHRINK, sym17 level 3', 'BAYESSHRINK, sym17 level 4',\n",
              "        'BAYESSHRINK, sym17 level 5', 'BAYESSHRINK, sym17 level 6',\n",
              "        'BAYESSHRINK, sym18 level 1', 'BAYESSHRINK, sym18 level 2',\n",
              "        'BAYESSHRINK, sym18 level 3', 'BAYESSHRINK, sym18 level 4',\n",
              "        'BAYESSHRINK, sym18 level 5', 'BAYESSHRINK, sym18 level 6',\n",
              "        'BAYESSHRINK, sym19 level 1', 'BAYESSHRINK, sym19 level 2',\n",
              "        'BAYESSHRINK, sym19 level 3', 'BAYESSHRINK, sym19 level 4',\n",
              "        'BAYESSHRINK, sym19 level 5', 'BAYESSHRINK, sym19 level 6',\n",
              "        'BAYESSHRINK, sym20 level 1', 'BAYESSHRINK, sym20 level 2',\n",
              "        'BAYESSHRINK, sym20 level 3', 'BAYESSHRINK, sym20 level 4',\n",
              "        'BAYESSHRINK, sym20 level 5', 'BAYESSHRINK, sym20 level 6'],\n",
              "       ['VISUSHRINK, sym2 level 1', 'VISUSHRINK, sym2 level 2',\n",
              "        'VISUSHRINK, sym2 level 3', 'VISUSHRINK, sym2 level 4',\n",
              "        'VISUSHRINK, sym2 level 5', 'VISUSHRINK, sym2 level 6',\n",
              "        'VISUSHRINK, sym3 level 1', 'VISUSHRINK, sym3 level 2',\n",
              "        'VISUSHRINK, sym3 level 3', 'VISUSHRINK, sym3 level 4',\n",
              "        'VISUSHRINK, sym3 level 5', 'VISUSHRINK, sym3 level 6',\n",
              "        'VISUSHRINK, sym4 level 1', 'VISUSHRINK, sym4 level 2',\n",
              "        'VISUSHRINK, sym4 level 3', 'VISUSHRINK, sym4 level 4',\n",
              "        'VISUSHRINK, sym4 level 5', 'VISUSHRINK, sym4 level 6',\n",
              "        'VISUSHRINK, sym5 level 1', 'VISUSHRINK, sym5 level 2',\n",
              "        'VISUSHRINK, sym5 level 3', 'VISUSHRINK, sym5 level 4',\n",
              "        'VISUSHRINK, sym5 level 5', 'VISUSHRINK, sym5 level 6',\n",
              "        'VISUSHRINK, sym6 level 1', 'VISUSHRINK, sym6 level 2',\n",
              "        'VISUSHRINK, sym6 level 3', 'VISUSHRINK, sym6 level 4',\n",
              "        'VISUSHRINK, sym6 level 5', 'VISUSHRINK, sym6 level 6',\n",
              "        'VISUSHRINK, sym7 level 1', 'VISUSHRINK, sym7 level 2',\n",
              "        'VISUSHRINK, sym7 level 3', 'VISUSHRINK, sym7 level 4',\n",
              "        'VISUSHRINK, sym7 level 5', 'VISUSHRINK, sym7 level 6',\n",
              "        'VISUSHRINK, sym8 level 1', 'VISUSHRINK, sym8 level 2',\n",
              "        'VISUSHRINK, sym8 level 3', 'VISUSHRINK, sym8 level 4',\n",
              "        'VISUSHRINK, sym8 level 5', 'VISUSHRINK, sym8 level 6',\n",
              "        'VISUSHRINK, sym9 level 1', 'VISUSHRINK, sym9 level 2',\n",
              "        'VISUSHRINK, sym9 level 3', 'VISUSHRINK, sym9 level 4',\n",
              "        'VISUSHRINK, sym9 level 5', 'VISUSHRINK, sym9 level 6',\n",
              "        'VISUSHRINK, sym10 level 1', 'VISUSHRINK, sym10 level 2',\n",
              "        'VISUSHRINK, sym10 level 3', 'VISUSHRINK, sym10 level 4',\n",
              "        'VISUSHRINK, sym10 level 5', 'VISUSHRINK, sym10 level 6',\n",
              "        'VISUSHRINK, sym11 level 1', 'VISUSHRINK, sym11 level 2',\n",
              "        'VISUSHRINK, sym11 level 3', 'VISUSHRINK, sym11 level 4',\n",
              "        'VISUSHRINK, sym11 level 5', 'VISUSHRINK, sym11 level 6',\n",
              "        'VISUSHRINK, sym12 level 1', 'VISUSHRINK, sym12 level 2',\n",
              "        'VISUSHRINK, sym12 level 3', 'VISUSHRINK, sym12 level 4',\n",
              "        'VISUSHRINK, sym12 level 5', 'VISUSHRINK, sym12 level 6',\n",
              "        'VISUSHRINK, sym13 level 1', 'VISUSHRINK, sym13 level 2',\n",
              "        'VISUSHRINK, sym13 level 3', 'VISUSHRINK, sym13 level 4',\n",
              "        'VISUSHRINK, sym13 level 5', 'VISUSHRINK, sym13 level 6',\n",
              "        'VISUSHRINK, sym14 level 1', 'VISUSHRINK, sym14 level 2',\n",
              "        'VISUSHRINK, sym14 level 3', 'VISUSHRINK, sym14 level 4',\n",
              "        'VISUSHRINK, sym14 level 5', 'VISUSHRINK, sym14 level 6',\n",
              "        'VISUSHRINK, sym15 level 1', 'VISUSHRINK, sym15 level 2',\n",
              "        'VISUSHRINK, sym15 level 3', 'VISUSHRINK, sym15 level 4',\n",
              "        'VISUSHRINK, sym15 level 5', 'VISUSHRINK, sym15 level 6',\n",
              "        'VISUSHRINK, sym16 level 1', 'VISUSHRINK, sym16 level 2',\n",
              "        'VISUSHRINK, sym16 level 3', 'VISUSHRINK, sym16 level 4',\n",
              "        'VISUSHRINK, sym16 level 5', 'VISUSHRINK, sym16 level 6',\n",
              "        'VISUSHRINK, sym17 level 1', 'VISUSHRINK, sym17 level 2',\n",
              "        'VISUSHRINK, sym17 level 3', 'VISUSHRINK, sym17 level 4',\n",
              "        'VISUSHRINK, sym17 level 5', 'VISUSHRINK, sym17 level 6',\n",
              "        'VISUSHRINK, sym18 level 1', 'VISUSHRINK, sym18 level 2',\n",
              "        'VISUSHRINK, sym18 level 3', 'VISUSHRINK, sym18 level 4',\n",
              "        'VISUSHRINK, sym18 level 5', 'VISUSHRINK, sym18 level 6',\n",
              "        'VISUSHRINK, sym19 level 1', 'VISUSHRINK, sym19 level 2',\n",
              "        'VISUSHRINK, sym19 level 3', 'VISUSHRINK, sym19 level 4',\n",
              "        'VISUSHRINK, sym19 level 5', 'VISUSHRINK, sym19 level 6',\n",
              "        'VISUSHRINK, sym20 level 1', 'VISUSHRINK, sym20 level 2',\n",
              "        'VISUSHRINK, sym20 level 3', 'VISUSHRINK, sym20 level 4',\n",
              "        'VISUSHRINK, sym20 level 5', 'VISUSHRINK, sym20 level 6']],\n",
              "      dtype='<U26')"
            ]
          },
          "metadata": {},
          "execution_count": 105
        }
      ]
    },
    {
      "cell_type": "code",
      "source": [
        "dataa = {}\n",
        "\n",
        "for i in range(3):\n",
        "  dataa {main_list[i]:}"
      ],
      "metadata": {
        "colab": {
          "base_uri": "https://localhost:8080/",
          "height": 184
        },
        "id": "H9GrtHkLjMnv",
        "outputId": "6e4e8fdb-0925-463a-db13-c317a7c7410f"
      },
      "execution_count": 55,
      "outputs": [
        {
          "output_type": "error",
          "ename": "TypeError",
          "evalue": "ignored",
          "traceback": [
            "\u001b[0;31m---------------------------------------------------------------------------\u001b[0m",
            "\u001b[0;31mTypeError\u001b[0m                                 Traceback (most recent call last)",
            "\u001b[0;32m<ipython-input-55-2ec81e23b73d>\u001b[0m in \u001b[0;36m<module>\u001b[0;34m()\u001b[0m\n\u001b[1;32m      1\u001b[0m \u001b[0;32mfor\u001b[0m \u001b[0mi\u001b[0m \u001b[0;32min\u001b[0m \u001b[0mrange\u001b[0m\u001b[0;34m(\u001b[0m\u001b[0;36m3\u001b[0m\u001b[0;34m)\u001b[0m\u001b[0;34m:\u001b[0m\u001b[0;34m\u001b[0m\u001b[0;34m\u001b[0m\u001b[0m\n\u001b[0;32m----> 2\u001b[0;31m   \u001b[0mdataa\u001b[0m \u001b[0;34m=\u001b[0m \u001b[0;34m{\u001b[0m\u001b[0mmain_list\u001b[0m\u001b[0;34m[\u001b[0m\u001b[0mi\u001b[0m\u001b[0;34m]\u001b[0m\u001b[0;34m}\u001b[0m\u001b[0;34m\u001b[0m\u001b[0;34m\u001b[0m\u001b[0m\n\u001b[0m",
            "\u001b[0;31mTypeError\u001b[0m: unhashable type: 'list'"
          ]
        }
      ]
    },
    {
      "cell_type": "code",
      "source": [
        "type(data)"
      ],
      "metadata": {
        "colab": {
          "base_uri": "https://localhost:8080/"
        },
        "id": "-QEhOWhMofm9",
        "outputId": "8fbd2dbf-fcee-4e09-b4ed-37ef62302946"
      },
      "execution_count": 59,
      "outputs": [
        {
          "output_type": "execute_result",
          "data": {
            "text/plain": [
              "dict"
            ]
          },
          "metadata": {},
          "execution_count": 59
        }
      ]
    },
    {
      "cell_type": "markdown",
      "source": [
        "FLAG: Loop through **data** dictionary (below)"
      ],
      "metadata": {
        "id": "58k_JgmuYTO8"
      }
    },
    {
      "cell_type": "code",
      "source": [
        "signalnodistance = signalno+' at '+signaldistance\n",
        "\n",
        "data = {signalnodistance: metrics,\n",
        "        #BayesShrink\n",
        "        main_list[0][0][0]: main_list[0][0][1:], #signal properties to be used as column name\n",
        "        main_list[0][1][0]: main_list[0][1][1:],\n",
        "        main_list[0][2][0]: main_list[0][2][1:],\n",
        "\n",
        "        #VisuShrink\n",
        "        main_list[1][0][0]: main_list[1][0][1:], #signal properties to be used as column name\n",
        "        main_list[1][1][0]: main_list[1][1][1:],\n",
        "        main_list[1][2][0]: main_list[1][2][1:],\n",
        "        }\n",
        "\n",
        "# Create DataFrame\n",
        "Table1_df = pd.DataFrame(data)\n",
        " \n",
        "# Print the output.\n",
        "Table1_df"
      ],
      "metadata": {
        "id": "PxeHUmzQU5TL",
        "colab": {
          "base_uri": "https://localhost:8080/",
          "height": 205
        },
        "outputId": "6a762d8b-568b-45b0-b5b7-3bf5749d00a1"
      },
      "execution_count": 58,
      "outputs": [
        {
          "output_type": "execute_result",
          "data": {
            "text/html": [
              "\n",
              "  <div id=\"df-57e8ecda-0e4d-4ca5-a999-ad5102348e76\">\n",
              "    <div class=\"colab-df-container\">\n",
              "      <div>\n",
              "<style scoped>\n",
              "    .dataframe tbody tr th:only-of-type {\n",
              "        vertical-align: middle;\n",
              "    }\n",
              "\n",
              "    .dataframe tbody tr th {\n",
              "        vertical-align: top;\n",
              "    }\n",
              "\n",
              "    .dataframe thead th {\n",
              "        text-align: right;\n",
              "    }\n",
              "</style>\n",
              "<table border=\"1\" class=\"dataframe\">\n",
              "  <thead>\n",
              "    <tr style=\"text-align: right;\">\n",
              "      <th></th>\n",
              "      <th>signal 60 at 5 kpc</th>\n",
              "      <th>BAYESSHRINK, sym2 level 1</th>\n",
              "      <th>BAYESSHRINK, sym2 level 2</th>\n",
              "      <th>BAYESSHRINK, sym2 level 3</th>\n",
              "      <th>VISUSHRINK, sym2 level 1</th>\n",
              "      <th>VISUSHRINK, sym2 level 2</th>\n",
              "      <th>VISUSHRINK, sym2 level 3</th>\n",
              "    </tr>\n",
              "  </thead>\n",
              "  <tbody>\n",
              "    <tr>\n",
              "      <th>0</th>\n",
              "      <td>RMSE</td>\n",
              "      <td>0.053165</td>\n",
              "      <td>0.038247</td>\n",
              "      <td>0.028020</td>\n",
              "      <td>0.053165</td>\n",
              "      <td>0.038247</td>\n",
              "      <td>0.028020</td>\n",
              "    </tr>\n",
              "    <tr>\n",
              "      <th>1</th>\n",
              "      <td>MAE</td>\n",
              "      <td>0.041566</td>\n",
              "      <td>0.029764</td>\n",
              "      <td>0.021932</td>\n",
              "      <td>0.041566</td>\n",
              "      <td>0.029764</td>\n",
              "      <td>0.021932</td>\n",
              "    </tr>\n",
              "    <tr>\n",
              "      <th>2</th>\n",
              "      <td>MAX</td>\n",
              "      <td>0.222191</td>\n",
              "      <td>0.184373</td>\n",
              "      <td>0.110789</td>\n",
              "      <td>0.222191</td>\n",
              "      <td>0.184373</td>\n",
              "      <td>0.110789</td>\n",
              "    </tr>\n",
              "  </tbody>\n",
              "</table>\n",
              "</div>\n",
              "      <button class=\"colab-df-convert\" onclick=\"convertToInteractive('df-57e8ecda-0e4d-4ca5-a999-ad5102348e76')\"\n",
              "              title=\"Convert this dataframe to an interactive table.\"\n",
              "              style=\"display:none;\">\n",
              "        \n",
              "  <svg xmlns=\"http://www.w3.org/2000/svg\" height=\"24px\"viewBox=\"0 0 24 24\"\n",
              "       width=\"24px\">\n",
              "    <path d=\"M0 0h24v24H0V0z\" fill=\"none\"/>\n",
              "    <path d=\"M18.56 5.44l.94 2.06.94-2.06 2.06-.94-2.06-.94-.94-2.06-.94 2.06-2.06.94zm-11 1L8.5 8.5l.94-2.06 2.06-.94-2.06-.94L8.5 2.5l-.94 2.06-2.06.94zm10 10l.94 2.06.94-2.06 2.06-.94-2.06-.94-.94-2.06-.94 2.06-2.06.94z\"/><path d=\"M17.41 7.96l-1.37-1.37c-.4-.4-.92-.59-1.43-.59-.52 0-1.04.2-1.43.59L10.3 9.45l-7.72 7.72c-.78.78-.78 2.05 0 2.83L4 21.41c.39.39.9.59 1.41.59.51 0 1.02-.2 1.41-.59l7.78-7.78 2.81-2.81c.8-.78.8-2.07 0-2.86zM5.41 20L4 18.59l7.72-7.72 1.47 1.35L5.41 20z\"/>\n",
              "  </svg>\n",
              "      </button>\n",
              "      \n",
              "  <style>\n",
              "    .colab-df-container {\n",
              "      display:flex;\n",
              "      flex-wrap:wrap;\n",
              "      gap: 12px;\n",
              "    }\n",
              "\n",
              "    .colab-df-convert {\n",
              "      background-color: #E8F0FE;\n",
              "      border: none;\n",
              "      border-radius: 50%;\n",
              "      cursor: pointer;\n",
              "      display: none;\n",
              "      fill: #1967D2;\n",
              "      height: 32px;\n",
              "      padding: 0 0 0 0;\n",
              "      width: 32px;\n",
              "    }\n",
              "\n",
              "    .colab-df-convert:hover {\n",
              "      background-color: #E2EBFA;\n",
              "      box-shadow: 0px 1px 2px rgba(60, 64, 67, 0.3), 0px 1px 3px 1px rgba(60, 64, 67, 0.15);\n",
              "      fill: #174EA6;\n",
              "    }\n",
              "\n",
              "    [theme=dark] .colab-df-convert {\n",
              "      background-color: #3B4455;\n",
              "      fill: #D2E3FC;\n",
              "    }\n",
              "\n",
              "    [theme=dark] .colab-df-convert:hover {\n",
              "      background-color: #434B5C;\n",
              "      box-shadow: 0px 1px 3px 1px rgba(0, 0, 0, 0.15);\n",
              "      filter: drop-shadow(0px 1px 2px rgba(0, 0, 0, 0.3));\n",
              "      fill: #FFFFFF;\n",
              "    }\n",
              "  </style>\n",
              "\n",
              "      <script>\n",
              "        const buttonEl =\n",
              "          document.querySelector('#df-57e8ecda-0e4d-4ca5-a999-ad5102348e76 button.colab-df-convert');\n",
              "        buttonEl.style.display =\n",
              "          google.colab.kernel.accessAllowed ? 'block' : 'none';\n",
              "\n",
              "        async function convertToInteractive(key) {\n",
              "          const element = document.querySelector('#df-57e8ecda-0e4d-4ca5-a999-ad5102348e76');\n",
              "          const dataTable =\n",
              "            await google.colab.kernel.invokeFunction('convertToInteractive',\n",
              "                                                     [key], {});\n",
              "          if (!dataTable) return;\n",
              "\n",
              "          const docLinkHtml = 'Like what you see? Visit the ' +\n",
              "            '<a target=\"_blank\" href=https://colab.research.google.com/notebooks/data_table.ipynb>data table notebook</a>'\n",
              "            + ' to learn more about interactive tables.';\n",
              "          element.innerHTML = '';\n",
              "          dataTable['output_type'] = 'display_data';\n",
              "          await google.colab.output.renderOutput(dataTable, element);\n",
              "          const docLink = document.createElement('div');\n",
              "          docLink.innerHTML = docLinkHtml;\n",
              "          element.appendChild(docLink);\n",
              "        }\n",
              "      </script>\n",
              "    </div>\n",
              "  </div>\n",
              "  "
            ],
            "text/plain": [
              "  signal 60 at 5 kpc  ...  VISUSHRINK, sym2 level 3\n",
              "0               RMSE  ...                  0.028020\n",
              "1                MAE  ...                  0.021932\n",
              "2                MAX  ...                  0.110789\n",
              "\n",
              "[3 rows x 7 columns]"
            ]
          },
          "metadata": {},
          "execution_count": 58
        }
      ]
    },
    {
      "cell_type": "code",
      "source": [
        "denoise_wavelet(noisy_norm_df, method = m, mode ='hard', wavelet = , wavelet_levels = levels[i], rescale_sigma = 'True')"
      ],
      "metadata": {
        "colab": {
          "base_uri": "https://localhost:8080/"
        },
        "id": "tvIJ0IEgxuBO",
        "outputId": "1ae1bfd0-9cdc-4b8b-eaf5-670725677848"
      },
      "execution_count": null,
      "outputs": [
        {
          "output_type": "execute_result",
          "data": {
            "text/plain": [
              "array([-0.01353462, -0.01392688, -0.01446522, ...,  0.01192287,\n",
              "        0.01206634,  0.01220727])"
            ]
          },
          "metadata": {},
          "execution_count": 29
        }
      ]
    },
    {
      "cell_type": "code",
      "source": [
        "denoise_wavelet?"
      ],
      "metadata": {
        "id": "J7ImmKMxx0qS"
      },
      "execution_count": null,
      "outputs": []
    },
    {
      "cell_type": "code",
      "source": [
        "print(pywt.wavelist)"
      ],
      "metadata": {
        "colab": {
          "base_uri": "https://localhost:8080/"
        },
        "id": "4ZcpNCGHx6bn",
        "outputId": "5e8e74f6-eba0-4356-ce83-341eb3d79592"
      },
      "execution_count": null,
      "outputs": [
        {
          "output_type": "stream",
          "name": "stdout",
          "text": [
            "<built-in function wavelist>\n"
          ]
        }
      ]
    },
    {
      "cell_type": "code",
      "source": [
        "pywt.wavelist()"
      ],
      "metadata": {
        "colab": {
          "base_uri": "https://localhost:8080/"
        },
        "id": "OLEDPmWXztGy",
        "outputId": "f50ef8bb-192a-4e68-bed3-1cf75074491c"
      },
      "execution_count": null,
      "outputs": [
        {
          "output_type": "execute_result",
          "data": {
            "text/plain": [
              "['bior1.1',\n",
              " 'bior1.3',\n",
              " 'bior1.5',\n",
              " 'bior2.2',\n",
              " 'bior2.4',\n",
              " 'bior2.6',\n",
              " 'bior2.8',\n",
              " 'bior3.1',\n",
              " 'bior3.3',\n",
              " 'bior3.5',\n",
              " 'bior3.7',\n",
              " 'bior3.9',\n",
              " 'bior4.4',\n",
              " 'bior5.5',\n",
              " 'bior6.8',\n",
              " 'cgau1',\n",
              " 'cgau2',\n",
              " 'cgau3',\n",
              " 'cgau4',\n",
              " 'cgau5',\n",
              " 'cgau6',\n",
              " 'cgau7',\n",
              " 'cgau8',\n",
              " 'cmor',\n",
              " 'coif1',\n",
              " 'coif2',\n",
              " 'coif3',\n",
              " 'coif4',\n",
              " 'coif5',\n",
              " 'coif6',\n",
              " 'coif7',\n",
              " 'coif8',\n",
              " 'coif9',\n",
              " 'coif10',\n",
              " 'coif11',\n",
              " 'coif12',\n",
              " 'coif13',\n",
              " 'coif14',\n",
              " 'coif15',\n",
              " 'coif16',\n",
              " 'coif17',\n",
              " 'db1',\n",
              " 'db2',\n",
              " 'db3',\n",
              " 'db4',\n",
              " 'db5',\n",
              " 'db6',\n",
              " 'db7',\n",
              " 'db8',\n",
              " 'db9',\n",
              " 'db10',\n",
              " 'db11',\n",
              " 'db12',\n",
              " 'db13',\n",
              " 'db14',\n",
              " 'db15',\n",
              " 'db16',\n",
              " 'db17',\n",
              " 'db18',\n",
              " 'db19',\n",
              " 'db20',\n",
              " 'db21',\n",
              " 'db22',\n",
              " 'db23',\n",
              " 'db24',\n",
              " 'db25',\n",
              " 'db26',\n",
              " 'db27',\n",
              " 'db28',\n",
              " 'db29',\n",
              " 'db30',\n",
              " 'db31',\n",
              " 'db32',\n",
              " 'db33',\n",
              " 'db34',\n",
              " 'db35',\n",
              " 'db36',\n",
              " 'db37',\n",
              " 'db38',\n",
              " 'dmey',\n",
              " 'fbsp',\n",
              " 'gaus1',\n",
              " 'gaus2',\n",
              " 'gaus3',\n",
              " 'gaus4',\n",
              " 'gaus5',\n",
              " 'gaus6',\n",
              " 'gaus7',\n",
              " 'gaus8',\n",
              " 'haar',\n",
              " 'mexh',\n",
              " 'morl',\n",
              " 'rbio1.1',\n",
              " 'rbio1.3',\n",
              " 'rbio1.5',\n",
              " 'rbio2.2',\n",
              " 'rbio2.4',\n",
              " 'rbio2.6',\n",
              " 'rbio2.8',\n",
              " 'rbio3.1',\n",
              " 'rbio3.3',\n",
              " 'rbio3.5',\n",
              " 'rbio3.7',\n",
              " 'rbio3.9',\n",
              " 'rbio4.4',\n",
              " 'rbio5.5',\n",
              " 'rbio6.8',\n",
              " 'shan',\n",
              " 'sym2',\n",
              " 'sym3',\n",
              " 'sym4',\n",
              " 'sym5',\n",
              " 'sym6',\n",
              " 'sym7',\n",
              " 'sym8',\n",
              " 'sym9',\n",
              " 'sym10',\n",
              " 'sym11',\n",
              " 'sym12',\n",
              " 'sym13',\n",
              " 'sym14',\n",
              " 'sym15',\n",
              " 'sym16',\n",
              " 'sym17',\n",
              " 'sym18',\n",
              " 'sym19',\n",
              " 'sym20']"
            ]
          },
          "metadata": {},
          "execution_count": 39
        }
      ]
    }
  ]
}