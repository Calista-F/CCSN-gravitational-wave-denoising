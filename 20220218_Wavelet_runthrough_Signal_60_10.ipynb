{
  "nbformat": 4,
  "nbformat_minor": 0,
  "metadata": {
    "colab": {
      "name": "20220218 Wavelet runthrough Signal 60-10.ipynb",
      "provenance": [],
      "collapsed_sections": [],
      "mount_file_id": "1Dzs2oPNvy0ila88gSlFthJhpeodX4aYY",
      "authorship_tag": "ABX9TyOq9Xcij6B2ZuowRR2iv+fP",
      "include_colab_link": true
    },
    "kernelspec": {
      "name": "python3",
      "display_name": "Python 3"
    },
    "language_info": {
      "name": "python"
    }
  },
  "cells": [
    {
      "cell_type": "markdown",
      "metadata": {
        "id": "view-in-github",
        "colab_type": "text"
      },
      "source": [
        "<a href=\"https://colab.research.google.com/github/Calista-F/CCSN-gravitational-wave-denoising/blob/main/20220218_Wavelet_runthrough_Signal_60_10.ipynb\" target=\"_parent\"><img src=\"https://colab.research.google.com/assets/colab-badge.svg\" alt=\"Open In Colab\"/></a>"
      ]
    },
    {
      "cell_type": "code",
      "metadata": {
        "id": "wVNfRB4dH5qu"
      },
      "source": [
        "import numpy as np\n",
        "import pywt\n",
        "from skimage.restoration import denoise_wavelet\n",
        "import matplotlib.pyplot as plt\n",
        "import pandas as pd\n",
        "from math import log10, sqrt\n",
        "import cv2\n",
        "import numpy as np"
      ],
      "execution_count": 1,
      "outputs": []
    },
    {
      "cell_type": "code",
      "metadata": {
        "id": "Bsu-EBO6-zRr"
      },
      "source": [
        "from sklearn.metrics import  mean_squared_error, mean_absolute_error, max_error\n",
        "import math\n",
        "\n",
        "def get_rmse(y_target, y_computed):\n",
        "  RMSE = mean_squared_error(y_target, y_computed, squared=False)\n",
        "  return RMSE"
      ],
      "execution_count": 2,
      "outputs": []
    },
    {
      "cell_type": "code",
      "metadata": {
        "id": "LinVItLQA7tQ"
      },
      "source": [
        "from google.colab import auth\n",
        "auth.authenticate_user()\n",
        "\n",
        "import gspread\n",
        "from gspread_dataframe import set_with_dataframe\n",
        "from oauth2client.client import GoogleCredentials\n",
        "\n",
        "gc = gspread.authorize(GoogleCredentials.get_application_default())"
      ],
      "execution_count": 3,
      "outputs": []
    },
    {
      "cell_type": "code",
      "source": [
        "# Load worksheet\n",
        "repo = gc.open_by_url('https://docs.google.com/spreadsheets/d/1VB7SaGWtdRc8lsV4EXCRuQfwXWYLnf8KbMgmsqezgZs/edit#gid=1342867710')\n",
        "worksheet = repo.worksheet('CCSN_signal60_dist10.0')\n",
        "\n",
        "#make a df\n",
        "CCSN60 = worksheet.get_all_values()\n",
        "ccsn_df = pd.DataFrame(CCSN60)\n",
        "ccsn_df.columns = ccsn_df.iloc[0]\n",
        "ccsn_df = ccsn_df.iloc[1:]\n",
        "\n",
        "#make numeric\n",
        "ccsn_df = ccsn_df.apply(pd.to_numeric)"
      ],
      "metadata": {
        "id": "OqfkgzDojKGw"
      },
      "execution_count": 4,
      "outputs": []
    },
    {
      "cell_type": "code",
      "source": [
        "def get_min_rmse(df):\n",
        "  return df[df['RMSE'] == df['RMSE'].min()]"
      ],
      "metadata": {
        "id": "yMaAXq6n-NSK"
      },
      "execution_count": 5,
      "outputs": []
    },
    {
      "cell_type": "markdown",
      "source": [
        "###Table 1. Denoising results for the CCSN signal s20a1o05 at a distance of 5 kpc (SNR = 3.9 dB)."
      ],
      "metadata": {
        "id": "e-EFdcjNbrAZ"
      }
    },
    {
      "cell_type": "code",
      "metadata": {
        "id": "e7MUeV4lc6RV",
        "colab": {
          "base_uri": "https://localhost:8080/",
          "height": 298
        },
        "outputId": "ca3a2e1f-1726-4888-f186-2d569755ac17"
      },
      "source": [
        "noisy_norm_df = ccsn_df['signal + noise'].loc[20000:24000]/max(ccsn_df['signal + noise'].loc[20000:24000])\n",
        "signal_norm_df = ccsn_df['signal template'].loc[20000:24000]/max(ccsn_df['signal + noise'].loc[20000:24000])\n",
        "\n",
        "plt.plot(noisy_norm_df, label ='Signal embedded in noise')\n",
        "plt.title('Signal 60, 5pc')\n",
        "plt.plot(signal_norm_df, label ='Signal template')\n",
        "plt.legend()"
      ],
      "execution_count": 6,
      "outputs": [
        {
          "output_type": "execute_result",
          "data": {
            "text/plain": [
              "<matplotlib.legend.Legend at 0x7fd8b9423490>"
            ]
          },
          "metadata": {},
          "execution_count": 6
        },
        {
          "output_type": "display_data",
          "data": {
            "image/png": "[encoded data removed]",
            "text/plain": [
              "<Figure size 432x288 with 1 Axes>"
            ]
          },
          "metadata": {
            "needs_background": "light"
          }
        }
      ]
    },
    {
      "cell_type": "markdown",
      "source": [
        "Declare necessary lists for table 1"
      ],
      "metadata": {
        "id": "699KHPHuR3Hg"
      }
    },
    {
      "cell_type": "code",
      "source": [
        "metrics = ['RMSE','MAE','MAX']\n",
        "wavelets = ['sym5','db13','coif1']\n",
        "sym_wavelets = ['sym'+str(i) for i in range(2,21)]\n",
        "db_wavelets = ['db'+str(i) for i in range(1,39)]\n",
        "coif_wavelets = ['coif'+str(i) for i in range(1,18)]\n",
        "levels = np.arange(1,7,1)\n",
        "methods = ['BayesShrink','VisuShrink']\n",
        "indexcol = ['RMSE','MAE','MAX']\n",
        "\n",
        "signalno = 'signal 60'\n",
        "signaldistance = '5 kpc'"
      ],
      "metadata": {
        "id": "WAvmyHgM-8vU"
      },
      "execution_count": 8,
      "outputs": []
    },
    {
      "cell_type": "markdown",
      "source": [
        "Create a main list that appends each line and each metric result"
      ],
      "metadata": {
        "id": "o6TcXTThU-CR"
      }
    },
    {
      "cell_type": "code",
      "source": [
        "main_list = []\n",
        "\n",
        "for m in methods:\n",
        "  cols = []\n",
        "  for i in range(len(sym_wavelets)):\n",
        "    for l in range(len(levels)):\n",
        "      #Make a dataframe for the denoised signal of the noisy normalized signal\n",
        "      denoised_df = pd.DataFrame(denoise_wavelet(noisy_norm_df, method = m, mode ='hard', wavelet = sym_wavelets[i], wavelet_levels = levels[l], rescale_sigma = 'True'))\n",
        "      \n",
        "      #Create col1- a list that contains the signal properties (which signal template was used), denoising properties, and denoising performance metrics\n",
        "      col1 = [str(m).upper() +', '+ sym_wavelets[i] + ' level ' + str(levels[l])] \n",
        "      col1.append(get_rmse(signal_norm_df, denoised_df))\n",
        "      col1.append(mean_absolute_error(signal_norm_df, denoised_df))\n",
        "      col1.append(max_error(signal_norm_df, denoised_df))\n",
        "\n",
        "      #append this column to cols- a list of columns for the table \n",
        "      cols.append(col1)\n",
        "  main_list.append(cols)\n",
        "\n",
        "  main_array = np.array(main_list)"
      ],
      "metadata": {
        "id": "NzcdRmAhhIGn"
      },
      "execution_count": 9,
      "outputs": []
    },
    {
      "cell_type": "code",
      "source": [
        "def denoising_metrics(wavelet_family, max_level):\n",
        "\n",
        "  main_list = []\n",
        "  for m in methods:\n",
        "    cols = []\n",
        "    for i in range(len(wavelet_family)):\n",
        "      for l in range(len(np.arange(1,max_level,1))):\n",
        "        #Make a dataframe for the denoised signal of the noisy normalized signal\n",
        "        denoised_df = pd.DataFrame(denoise_wavelet(noisy_norm_df, method = m, mode ='hard', wavelet = wavelet_family[i], wavelet_levels = np.arange(1,max_level,1)[l], rescale_sigma = 'True'))\n",
        "        \n",
        "        #Create col1- a list that contains the signal properties (which signal template was used), denoising properties, and denoising performance metrics\n",
        "        col1 = [str(m).upper() +', '+ wavelet_family[i] + ' level ' + str(levels[l])] \n",
        "        col1.append(get_rmse(signal_norm_df, denoised_df))\n",
        "        col1.append(mean_absolute_error(signal_norm_df, denoised_df))\n",
        "        col1.append(max_error(signal_norm_df, denoised_df))\n",
        "\n",
        "        #append this column to cols- a list of columns for the table \n",
        "        cols.append(col1)\n",
        "    main_list.append(cols)\n",
        "  return np.array(main_list)"
      ],
      "metadata": {
        "id": "uOJoZ5gn61zZ"
      },
      "execution_count": 10,
      "outputs": []
    },
    {
      "cell_type": "code",
      "source": [
        "df_minrmse = pd.DataFrame()"
      ],
      "metadata": {
        "id": "G_0zy4v5yRh5"
      },
      "execution_count": 11,
      "outputs": []
    },
    {
      "cell_type": "markdown",
      "source": [
        "Symlet wavelet"
      ],
      "metadata": {
        "id": "FZv8_phMCsux"
      }
    },
    {
      "cell_type": "code",
      "source": [
        "\n",
        "symlet_array = denoising_metrics(sym_wavelets, 7)\n",
        "BayesSymdf = pd.DataFrame(data = symlet_array[0,:,1:], columns = metrics, index = symlet_array[0,:,0])\n",
        "df_minrmse = df_minrmse.append(get_min_rmse(BayesSymdf))\n",
        "\n",
        "\n",
        "VisuSymdf = pd.DataFrame(data = symlet_array[1,:,1:], columns = metrics, index = symlet_array[1,:,0])\n",
        "df_minrmse = df_minrmse.append(get_min_rmse(VisuSymdf))"
      ],
      "metadata": {
        "id": "hk_bQRXQ7gGm"
      },
      "execution_count": 12,
      "outputs": []
    },
    {
      "cell_type": "markdown",
      "source": [
        "Daubechies wavelet"
      ],
      "metadata": {
        "id": "bXRgwRu1DSto"
      }
    },
    {
      "cell_type": "code",
      "source": [
        "db_array = denoising_metrics(db_wavelets,6)\n",
        "BayesDbdf = pd.DataFrame(data = db_array[0,:,1:], columns = metrics, index = db_array[0,:,0])\n",
        "df_minrmse = df_minrmse.append(get_min_rmse(BayesDbdf))\n",
        "VisuDbdf = pd.DataFrame(data = db_array[1,:,1:], columns = metrics, index = db_array[1,:,0])\n",
        "df_minrmse = df_minrmse.append(get_min_rmse(VisuDbdf))"
      ],
      "metadata": {
        "id": "H9GrtHkLjMnv"
      },
      "execution_count": 13,
      "outputs": []
    },
    {
      "cell_type": "markdown",
      "source": [
        "Coiflet wavelet"
      ],
      "metadata": {
        "id": "SGjikRVlDXaB"
      }
    },
    {
      "cell_type": "code",
      "source": [
        "coif_array = denoising_metrics(coif_wavelets,6)\n",
        "coif_array.shape\n",
        "Bayescoifdf = pd.DataFrame(data = coif_array[0,:,1:], columns = metrics, index = coif_array[0,:,0])\n",
        "df_minrmse = df_minrmse.append(get_min_rmse(Bayescoifdf))\n",
        "Visucoifdf = pd.DataFrame(data = coif_array[1,:,1:], columns = metrics, index = coif_array[1,:,0])\n",
        "df_minrmse = df_minrmse.append(get_min_rmse(Visucoifdf))"
      ],
      "metadata": {
        "id": "fzy2Srt48gs7"
      },
      "execution_count": 14,
      "outputs": []
    },
    {
      "cell_type": "markdown",
      "source": [
        "Minimum RMSEs per threshold method and wavelet family"
      ],
      "metadata": {
        "id": "qMzs8ierDZgB"
      }
    },
    {
      "cell_type": "code",
      "source": [
        "df_minrmse"
      ],
      "metadata": {
        "colab": {
          "base_uri": "https://localhost:8080/",
          "height": 238
        },
        "id": "COm71SEKCQTu",
        "outputId": "d171762a-b410-4eeb-e5c7-f155e478fb5b"
      },
      "execution_count": 15,
      "outputs": [
        {
          "output_type": "execute_result",
          "data": {
            "text/html": [
              "\n",
              "  <div id=\"df-78d393fc-7b33-4e2f-9c59-f31bc7d5c6db\">\n",
              "    <div class=\"colab-df-container\">\n",
              "      <div>\n",
              "<style scoped>\n",
              "    .dataframe tbody tr th:only-of-type {\n",
              "        vertical-align: middle;\n",
              "    }\n",
              "\n",
              "    .dataframe tbody tr th {\n",
              "        vertical-align: top;\n",
              "    }\n",
              "\n",
              "    .dataframe thead th {\n",
              "        text-align: right;\n",
              "    }\n",
              "</style>\n",
              "<table border=\"1\" class=\"dataframe\">\n",
              "  <thead>\n",
              "    <tr style=\"text-align: right;\">\n",
              "      <th></th>\n",
              "      <th>RMSE</th>\n",
              "      <th>MAE</th>\n",
              "      <th>MAX</th>\n",
              "    </tr>\n",
              "  </thead>\n",
              "  <tbody>\n",
              "    <tr>\n",
              "      <th>BAYESSHRINK, sym19 level 6</th>\n",
              "      <td>0.026579708479161506</td>\n",
              "      <td>0.020999281774807022</td>\n",
              "      <td>0.09835555444176663</td>\n",
              "    </tr>\n",
              "    <tr>\n",
              "      <th>VISUSHRINK, sym19 level 5</th>\n",
              "      <td>0.02674776338906236</td>\n",
              "      <td>0.020967327125750442</td>\n",
              "      <td>0.09891585658585074</td>\n",
              "    </tr>\n",
              "    <tr>\n",
              "      <th>BAYESSHRINK, db23 level 5</th>\n",
              "      <td>0.02683539488311594</td>\n",
              "      <td>0.021009576809504684</td>\n",
              "      <td>0.09777987642855031</td>\n",
              "    </tr>\n",
              "    <tr>\n",
              "      <th>VISUSHRINK, db23 level 5</th>\n",
              "      <td>0.02683539488311594</td>\n",
              "      <td>0.021009576809504684</td>\n",
              "      <td>0.09777987642855031</td>\n",
              "    </tr>\n",
              "    <tr>\n",
              "      <th>BAYESSHRINK, coif16 level 5</th>\n",
              "      <td>0.0267397392665939</td>\n",
              "      <td>0.021025061824018507</td>\n",
              "      <td>0.09355599988513283</td>\n",
              "    </tr>\n",
              "    <tr>\n",
              "      <th>VISUSHRINK, coif16 level 5</th>\n",
              "      <td>0.0267397392665939</td>\n",
              "      <td>0.021025061824018507</td>\n",
              "      <td>0.09355599988513283</td>\n",
              "    </tr>\n",
              "  </tbody>\n",
              "</table>\n",
              "</div>\n",
              "      <button class=\"colab-df-convert\" onclick=\"convertToInteractive('df-78d393fc-7b33-4e2f-9c59-f31bc7d5c6db')\"\n",
              "              title=\"Convert this dataframe to an interactive table.\"\n",
              "              style=\"display:none;\">\n",
              "        \n",
              "  <svg xmlns=\"http://www.w3.org/2000/svg\" height=\"24px\"viewBox=\"0 0 24 24\"\n",
              "       width=\"24px\">\n",
              "    <path d=\"M0 0h24v24H0V0z\" fill=\"none\"/>\n",
              "    <path d=\"M18.56 5.44l.94 2.06.94-2.06 2.06-.94-2.06-.94-.94-2.06-.94 2.06-2.06.94zm-11 1L8.5 8.5l.94-2.06 2.06-.94-2.06-.94L8.5 2.5l-.94 2.06-2.06.94zm10 10l.94 2.06.94-2.06 2.06-.94-2.06-.94-.94-2.06-.94 2.06-2.06.94z\"/><path d=\"M17.41 7.96l-1.37-1.37c-.4-.4-.92-.59-1.43-.59-.52 0-1.04.2-1.43.59L10.3 9.45l-7.72 7.72c-.78.78-.78 2.05 0 2.83L4 21.41c.39.39.9.59 1.41.59.51 0 1.02-.2 1.41-.59l7.78-7.78 2.81-2.81c.8-.78.8-2.07 0-2.86zM5.41 20L4 18.59l7.72-7.72 1.47 1.35L5.41 20z\"/>\n",
              "  </svg>\n",
              "      </button>\n",
              "      \n",
              "  <style>\n",
              "    .colab-df-container {\n",
              "      display:flex;\n",
              "      flex-wrap:wrap;\n",
              "      gap: 12px;\n",
              "    }\n",
              "\n",
              "    .colab-df-convert {\n",
              "      background-color: #E8F0FE;\n",
              "      border: none;\n",
              "      border-radius: 50%;\n",
              "      cursor: pointer;\n",
              "      display: none;\n",
              "      fill: #1967D2;\n",
              "      height: 32px;\n",
              "      padding: 0 0 0 0;\n",
              "      width: 32px;\n",
              "    }\n",
              "\n",
              "    .colab-df-convert:hover {\n",
              "      background-color: #E2EBFA;\n",
              "      box-shadow: 0px 1px 2px rgba(60, 64, 67, 0.3), 0px 1px 3px 1px rgba(60, 64, 67, 0.15);\n",
              "      fill: #174EA6;\n",
              "    }\n",
              "\n",
              "    [theme=dark] .colab-df-convert {\n",
              "      background-color: #3B4455;\n",
              "      fill: #D2E3FC;\n",
              "    }\n",
              "\n",
              "    [theme=dark] .colab-df-convert:hover {\n",
              "      background-color: #434B5C;\n",
              "      box-shadow: 0px 1px 3px 1px rgba(0, 0, 0, 0.15);\n",
              "      filter: drop-shadow(0px 1px 2px rgba(0, 0, 0, 0.3));\n",
              "      fill: #FFFFFF;\n",
              "    }\n",
              "  </style>\n",
              "\n",
              "      <script>\n",
              "        const buttonEl =\n",
              "          document.querySelector('#df-78d393fc-7b33-4e2f-9c59-f31bc7d5c6db button.colab-df-convert');\n",
              "        buttonEl.style.display =\n",
              "          google.colab.kernel.accessAllowed ? 'block' : 'none';\n",
              "\n",
              "        async function convertToInteractive(key) {\n",
              "          const element = document.querySelector('#df-78d393fc-7b33-4e2f-9c59-f31bc7d5c6db');\n",
              "          const dataTable =\n",
              "            await google.colab.kernel.invokeFunction('convertToInteractive',\n",
              "                                                     [key], {});\n",
              "          if (!dataTable) return;\n",
              "\n",
              "          const docLinkHtml = 'Like what you see? Visit the ' +\n",
              "            '<a target=\"_blank\" href=https://colab.research.google.com/notebooks/data_table.ipynb>data table notebook</a>'\n",
              "            + ' to learn more about interactive tables.';\n",
              "          element.innerHTML = '';\n",
              "          dataTable['output_type'] = 'display_data';\n",
              "          await google.colab.output.renderOutput(dataTable, element);\n",
              "          const docLink = document.createElement('div');\n",
              "          docLink.innerHTML = docLinkHtml;\n",
              "          element.appendChild(docLink);\n",
              "        }\n",
              "      </script>\n",
              "    </div>\n",
              "  </div>\n",
              "  "
            ],
            "text/plain": [
              "                                             RMSE  ...                  MAX\n",
              "BAYESSHRINK, sym19 level 6   0.026579708479161506  ...  0.09835555444176663\n",
              "VISUSHRINK, sym19 level 5     0.02674776338906236  ...  0.09891585658585074\n",
              "BAYESSHRINK, db23 level 5     0.02683539488311594  ...  0.09777987642855031\n",
              "VISUSHRINK, db23 level 5      0.02683539488311594  ...  0.09777987642855031\n",
              "BAYESSHRINK, coif16 level 5    0.0267397392665939  ...  0.09355599988513283\n",
              "VISUSHRINK, coif16 level 5     0.0267397392665939  ...  0.09355599988513283\n",
              "\n",
              "[6 rows x 3 columns]"
            ]
          },
          "metadata": {},
          "execution_count": 15
        }
      ]
    }
  ]
}